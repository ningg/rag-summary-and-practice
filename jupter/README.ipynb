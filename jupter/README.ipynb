{
 "cells": [
  {
   "cell_type": "markdown",
   "id": "3bccd2a8",
   "metadata": {},
   "source": [
    "# rag-summary-and-practice"
   ]
  },
  {
   "cell_type": "markdown",
   "id": "013b3b67",
   "metadata": {},
   "source": [
    "RAG 技术要点、本地实践"
   ]
  },
  {
   "cell_type": "markdown",
   "id": "6eea0ef1",
   "metadata": {},
   "source": [
    "## 0.背景"
   ]
  },
  {
   "cell_type": "markdown",
   "id": "934237f2",
   "metadata": {},
   "source": [
    "\n",
    "> jupyter notebook 版本：[jupter/README.ipynb](https://github.com/ningg/rag-summary-and-practice/blob/main/jupter/README.ipynb)\n",
    "\n",
    "最近几周工作上，接触些 RAG 内容，看了点资料；本着`最好的学习是复述`原则，把所有要点，重新梳理下。\n",
    "\n",
    "思路：\n",
    "\n",
    "1. RAG 解决什么问题？\n",
    "2. RAG 核心原理、核心组件\n",
    "3. RAG 高级技术，不同组件的高级用法\n",
    "4. 效果评估\n",
    "5. 后续发展方向"
   ]
  },
  {
   "cell_type": "markdown",
   "id": "bb616381",
   "metadata": {},
   "source": [
    "## 1.RAG 解决什么问题"
   ]
  },
  {
   "cell_type": "markdown",
   "id": "9db4639c",
   "metadata": {},
   "source": [
    "\n",
    "LLM 基于大规模数据的预训练，获取的通用知识。对于`私有数据`和`高频更新数据`，LLM 无法及时更新。如果采用 `Fine-Tuning` 监督微调方式，LLM 训练成本也较高，而且无法解决`幻觉`问题。 \n",
    "\n",
    "即，`私有数据`和`高频更新数据`，以及`幻觉`问题，LLM 模型自身解决成本较高，因此，引入 RAG `Retrieval Augmented Generation` 检索增强生成。"
   ]
  },
  {
   "cell_type": "markdown",
   "id": "d8dfd2ce",
   "metadata": {},
   "source": [
    "## 2.核心原理"
   ]
  },
  {
   "cell_type": "markdown",
   "id": "b36e85b2",
   "metadata": {},
   "source": [
    "\n",
    "RAG 检索增强生成：通过检索`外部数据源`信息，构造`融合上下文`（Context），输入给 LLM，获取更准确的结果。\n",
    "\n",
    "核心环节：\n",
    "\n",
    "* a.索引（indexing）\n",
    "* b.检索（retrieval）\n",
    "* c.生成（generation）\n",
    "\n",
    "\n",
    "下述 RAG 架构图中，出了上面 **3 个核心环节**，还有：查询优化、路由、查询构造\n",
    "\n",
    "* 查询优化（Query Translation）：查询重写 multi-query、查询扩展 sub-question、后退查询 step-back query、 HYDE 假设性文档嵌入；\n",
    "* 路由（Routing）：根据查询，判断从哪些数据源，获取信息；\n",
    "* 查询抽取（Query Construction）：从原始 Query 中，抽取 SQL、Cypher、metadatas，分别用于 关系数据库、图数据库、向量数据库的查询。\n",
    "\n",
    "![rag_detail_v2](../img/rag-overview.png)\n",
    "\n",
    "\n",
    "开始之前，先在本地安装好 [Ollama](https://ollama.com/)，并且下载好 embedding model 和 language model。"
   ]
  },
  {
   "cell_type": "code",
   "execution_count": null,
   "id": "f29bfa5c",
   "metadata": {},
   "outputs": [],
   "source": [
    "# 安装 Ollama\n",
    "pip install ollama\n",
    "\n",
    "# 下载 embedding model 和 language model\n",
    "ollama pull nomic-embed-text\n",
    "ollama pull deepseek-r1:8b"
   ]
  },
  {
   "cell_type": "markdown",
   "id": "eb12462f",
   "metadata": {},
   "source": [
    "\n",
    "安装依赖："
   ]
  },
  {
   "cell_type": "code",
   "execution_count": null,
   "id": "cb74333e",
   "metadata": {},
   "outputs": [],
   "source": [
    "! pip install langchain_community tiktoken langchain-ollama langchainhub chromadb langchain"
   ]
  },
  {
   "cell_type": "markdown",
   "id": "0028557e",
   "metadata": {},
   "source": []
  },
  {
   "cell_type": "markdown",
   "id": "8e4c3cda",
   "metadata": {},
   "source": [
    "### 2.1. RAG Oveview"
   ]
  },
  {
   "cell_type": "markdown",
   "id": "ce0de64d",
   "metadata": {},
   "source": [
    "\n",
    "提前设定环境变量："
   ]
  },
  {
   "cell_type": "code",
   "execution_count": null,
   "id": "7675f8ef",
   "metadata": {},
   "outputs": [],
   "source": [
    "import os\n",
    "\n",
    "# os.environ['OPENAI_API_KEY'] = '<your-api-key>'\n",
    "# os.environ['COHERE_API_KEY'] = '<your-cohere-api-key>'"
   ]
  },
  {
   "cell_type": "markdown",
   "id": "606dc0fd",
   "metadata": {},
   "source": [
    "\n",
    "完整的 indexing、retrieval、generation 实例代码如下："
   ]
  },
  {
   "cell_type": "code",
   "execution_count": null,
   "id": "1f7c8318",
   "metadata": {},
   "outputs": [],
   "source": [
    "import bs4\n",
    "from langchain import hub\n",
    "from langchain.text_splitter import RecursiveCharacterTextSplitter\n",
    "from langchain_community.document_loaders import WebBaseLoader\n",
    "from langchain_community.vectorstores import Chroma\n",
    "from langchain_core.output_parsers import StrOutputParser\n",
    "from langchain_core.runnables import RunnablePassthrough\n",
    "from langchain_ollama import OllamaLLM, OllamaEmbeddings\n",
    "\n",
    "#### 1.INDEXING ####\n",
    "\n",
    "# Load Documents\n",
    "loader = WebBaseLoader(\n",
    "    web_paths=(\"https://lilianweng.github.io/posts/2023-06-23-agent/\",),\n",
    "    bs_kwargs=dict(\n",
    "        parse_only=bs4.SoupStrainer(\n",
    "            class_=(\"post-content\", \"post-title\", \"post-header\")\n",
    "        )\n",
    "    ),\n",
    ")\n",
    "docs = loader.load()\n",
    "\n",
    "# Split\n",
    "text_splitter = RecursiveCharacterTextSplitter(chunk_size=1000, chunk_overlap=200)\n",
    "splits = text_splitter.split_documents(docs)\n",
    "\n",
    "# Embed\n",
    "vectorstore = Chroma.from_documents(\n",
    "    documents=splits, \n",
    "    embedding=OllamaEmbeddings(model=\"nomic-embed-text\"))\n",
    "\n",
    "retriever = vectorstore.as_retriever()\n",
    "\n",
    "#### 2.RETRIEVAL and 3.GENERATION ####\n",
    "\n",
    "# Prompt\n",
    "# Pull a pre-made RAG prompt from LangChain Hub\n",
    "prompt = hub.pull(\"rlm/rag-prompt\")\n",
    "print(prompt)\n",
    "\n",
    "# LLM\n",
    "llm = OllamaLLM(model=\"deepseek-r1:8b\")\n",
    "\n",
    "# Post-processing\n",
    "# Helper function to format retrieved documents\n",
    "def format_docs(docs):\n",
    "    return \"\\n\\n\".join(doc.page_content for doc in docs)\n",
    "\n",
    "# Helper function to remove <think> part in the text\n",
    "def remove_think_tags(text):\n",
    "    \"\"\"remove <think> part in the text\"\"\"\n",
    "    cleaned_text = re.sub(r'<think>.*?</think>', '', text, flags=re.DOTALL)\n",
    "    cleaned_text = re.sub(r'\\n\\s*\\n', '\\n', cleaned_text)\n",
    "    return cleaned_text.strip()\n",
    "\n",
    "# RAG Chain\n",
    "rag_chain = (\n",
    "    {\"context\": retriever | format_docs, \"question\": RunnablePassthrough()}\n",
    "    | prompt\n",
    "    | llm\n",
    "    | StrOutputParser()\n",
    "    # | remove_think_tags\n",
    ")\n",
    "\n",
    "# Question\n",
    "# Ask a question using the RAG chain\n",
    "response = rag_chain.invoke(\"What is Task Decomposition?\")\n",
    "print(response)"
   ]
  },
  {
   "cell_type": "markdown",
   "id": "5b65fe02",
   "metadata": {},
   "source": []
  },
  {
   "cell_type": "markdown",
   "id": "e2c8b73b",
   "metadata": {},
   "source": [
    "### 2.2. Indexing"
   ]
  },
  {
   "cell_type": "markdown",
   "id": "97c84bd3",
   "metadata": {},
   "source": [
    "\n",
    "几个方面：\n",
    "\n",
    "1. Tokenizer：分词，文本会被拆分成 token，映射到词表中 tokenID。\n",
    "2. Embedding：嵌入，将 tokenID 映射到向量空间中，得到 token 的向量表示。\n",
    "3. Chunk：分块，将文本拆分成多个 chunk，每个 chunk 包含多个 token。\n",
    "4. Index：索引，将 chunk 的向量表示存储到向量数据库中。"
   ]
  },
  {
   "cell_type": "markdown",
   "id": "6bad8867",
   "metadata": {},
   "source": [
    "#### 2.2.1.Token"
   ]
  },
  {
   "cell_type": "markdown",
   "id": "650171b9",
   "metadata": {},
   "source": [
    "\n",
    "更多细节， [Count tokens](https://github.com/openai/openai-cookbook/blob/main/examples/How_to_count_tokens_with_tiktoken.ipynb) and [~4 char / token](https://help.openai.com/en/articles/4936856-what-are-tokens-and-how-to-count-them)\n",
    "\n",
    "> **Token** ：机器/模型的分词结果，在词表中的 index；跟传统的人类分词，不是一个等同的概念，但是是**强相关**的。Token 可以认为是`模型的分词结果`，基于 字节对编码（BPE）、SentencePiece 等算法，跟人类的分词结果，不完全一致，但是，思路是一致的。\n",
    "\n",
    "查看下面分词得到的 Token："
   ]
  },
  {
   "cell_type": "code",
   "execution_count": null,
   "id": "3407a9ac",
   "metadata": {},
   "outputs": [],
   "source": [
    "import tiktoken\n",
    "\n",
    "# Documents\n",
    "document = \"My favorite pet is a cat.\"\n",
    "question = \"What kinds of pets do I like?\"\n",
    "\n",
    "# count token num\n",
    "def num_tokens_from_string(string: str, encoding_name: str) -> int:\n",
    "    \"\"\"Returns the number of tokens in a text string.\"\"\"\n",
    "    encoding = tiktoken.get_encoding(encoding_name)\n",
    "    tokenIDs = encoding.encode(string)\n",
    "\n",
    "    print('tokenIDs: ' + str(tokenIDs))\n",
    "\n",
    "    num_tokens = len(tokenIDs)\n",
    "    return num_tokens\n",
    "\n",
    "# use cl100k_base encoding\n",
    "result = num_tokens_from_string(question, \"cl100k_base\")\n",
    "print('token num: ' + str(result))"
   ]
  },
  {
   "cell_type": "markdown",
   "id": "cf3832de",
   "metadata": {},
   "source": []
  },
  {
   "cell_type": "markdown",
   "id": "b4877263",
   "metadata": {},
   "source": [
    "#### 2.2.2.Embedding"
   ]
  },
  {
   "cell_type": "markdown",
   "id": "459d2f64",
   "metadata": {},
   "source": [
    "\n",
    "[Ollama Embedding](https://python.langchain.com/docs/integrations/text_embedding/ollama/) ，实例："
   ]
  },
  {
   "cell_type": "code",
   "execution_count": null,
   "id": "bcdd724e",
   "metadata": {},
   "outputs": [],
   "source": [
    "from langchain_ollama import OllamaEmbeddings\n",
    "\n",
    "embd = OllamaEmbeddings(model=\"nomic-embed-text\")\n",
    "query_result = embd.embed_query(question)\n",
    "document_result = embd.embed_query(document)\n",
    "result = len(query_result)\n",
    "\n",
    "print('query_result: ' + str(query_result))\n",
    "print('embedding dim: ' + str(result))"
   ]
  },
  {
   "cell_type": "markdown",
   "id": "ba1d2337",
   "metadata": {},
   "source": [
    "\n",
    "衡量 2 个 embedding 结果的关联关系，使用 `cosine similarity`："
   ]
  },
  {
   "cell_type": "code",
   "execution_count": null,
   "id": "173b6829",
   "metadata": {},
   "outputs": [],
   "source": [
    "import numpy as np\n",
    "\n",
    "def cosine_similarity(vec1, vec2):\n",
    "    dot_product = np.dot(vec1, vec2)\n",
    "    norm_vec1 = np.linalg.norm(vec1)\n",
    "    norm_vec2 = np.linalg.norm(vec2)\n",
    "    return dot_product / (norm_vec1 * norm_vec2)\n",
    "\n",
    "similarity = cosine_similarity(query_result, document_result)\n",
    "print(\"Cosine Similarity:\", similarity)"
   ]
  },
  {
   "cell_type": "markdown",
   "id": "42e4aac2",
   "metadata": {},
   "source": [
    "\n",
    "> `cosine similarity` 余弦相似度，物理含义：两个向量的相关性、相似度。"
   ]
  },
  {
   "cell_type": "markdown",
   "id": "07b3b1de",
   "metadata": {},
   "source": [
    "#### 2.2.3.Chunk"
   ]
  },
  {
   "cell_type": "markdown",
   "id": "64cb54e3",
   "metadata": {},
   "source": [
    "\n",
    "LangChain 提供了关联工具：\n",
    "\n",
    "* [Document Loaders](https://python.langchain.com/docs/integrations/document_loaders/)：加载各类文档数据，并转换为 LangChain 的 Document 标准对象。\n",
    "* [Text Splitters](https://python.langchain.com/api_reference/text_splitters/index.html)：将文本拆分成多个 chunk，每个 chunk 包含多个 token。\n",
    "\n",
    "下面使用 `RecursiveCharacterTextSplitter` 进行分割："
   ]
  },
  {
   "cell_type": "code",
   "execution_count": null,
   "id": "ccc531de",
   "metadata": {},
   "outputs": [],
   "source": [
    "# Split\n",
    "from langchain.text_splitter import RecursiveCharacterTextSplitter\n",
    "text_splitter = RecursiveCharacterTextSplitter.from_tiktoken_encoder(\n",
    "    chunk_size=300, \n",
    "    chunk_overlap=50)\n",
    "\n",
    "# Make splits\n",
    "splits = text_splitter.split_documents(blog_docs)\n",
    "\n",
    "# Print splits\n",
    "print(\"Print splits 1:\" + splits[0])"
   ]
  },
  {
   "cell_type": "markdown",
   "id": "0f12e993",
   "metadata": {},
   "source": [
    "\n",
    "在线尝试各种 文本分割器： [https://langchain-text-splitter.streamlit.app/] ，可以直观感受各种细节。\n",
    "\n",
    "\n",
    "> **RecursiveCharacterTextSplitter** 递归字符文本切分：尽量保证`语义单元`(段落\\句子\\单词等)，并支持`chunk 之间有重叠`。\n",
    "> \n",
    ">  **原理要点**\n",
    "> \n",
    "> 1. **递归分割思想**\n",
    "> \n",
    ">    * 它会定义一个 **分隔符列表**（比如 `[\"\\n\\n\", \"\\n\", \"。\", \"，\", \" \"]`）。\n",
    ">    * 从“最强分隔符”开始尝试切分（通常是段落级别 `\\n\\n`），如果小于 `chunk_size`，则，会尝试拼接上`同级别的下一个分块`，否则，直接独占一个 chunk。 \n",
    ">    * 如果切出来的片段还是太长（超过 `chunk_size`），就递归地用更细的分隔符继续切（如句子、逗> 号、空格）。\n",
    ">    * 如果到了最后一级分隔符还太长，就直接 **硬切字符**。\n",
    "> \n",
    ">    > 保证：尽量按“语义单元”切分，而不是随便截断。\n",
    "> \n",
    "> 2. **重叠窗口（`chunk_overlap`）**\n",
    "> \n",
    ">    * 为了避免模型“上下文割裂”，它支持 **chunk 之间有重叠**。\n",
    ">    * 例如 `chunk_size=1000, overlap=200`，则切分结果是：\n",
    "> \n",
    ">      ```\n",
    ">      [0:1000], [800:1800], [1600:2600], ...\n",
    ">      ```\n",
    ">    * 这样能保持语义连续性（防止关键句子被切断后丢失上下文）。\n",
    "> \n",
    "> 3. **平衡语义完整性与长度限制**\n",
    "> \n",
    ">    * RAG、embedding 等应用对输入长度有限制（如 512/1024 tokens）。\n",
    ">    * 该算法既要保证 chunk **不超过限制**，又要尽量保持 **语义完整性**（不打断段落/句子）。\n",
    "> \n",
    "> 4. **鲁棒性**\n",
    "> \n",
    ">    * 如果文本缺少常见分隔符（比如一长段 HTML 或 JSON），递归策略仍能保证最后能切开（最坏情况就> 是硬切字符）。\n",
    "> \n",
    "> \n",
    "> **总结一句话**：\n",
    "> \n",
    "> **RecursiveCharacterTextSplitter = 按语义单元优先的递归切分 + 重叠窗口机制**，\n",
    "> 目标是：\n",
    "> \n",
    "> * **尽量保留自然语义边界**（段落/句子）\n",
    "> * **又能保证每块符合 LLM 输入限制**"
   ]
  },
  {
   "cell_type": "markdown",
   "id": "9140917f",
   "metadata": {},
   "source": [
    "#### 2.2.4.Index"
   ]
  },
  {
   "cell_type": "markdown",
   "id": "18253497",
   "metadata": {},
   "source": [
    "\n",
    "有多种向量数据库，下面使用 Chroma 进行演示："
   ]
  },
  {
   "cell_type": "code",
   "execution_count": null,
   "id": "cf695b15",
   "metadata": {},
   "outputs": [],
   "source": [
    "# Index\n",
    "from langchain_ollama import OllamaEmbeddings\n",
    "from langchain_community.vectorstores import Chroma\n",
    "vectorstore = Chroma.from_documents(documents=splits, \n",
    "                                    embedding=OllamaEmbeddings(model=\"nomic-embed-text\"))\n",
    "\n",
    "retriever = vectorstore.as_retriever()"
   ]
  },
  {
   "cell_type": "markdown",
   "id": "bd2ab3a4",
   "metadata": {},
   "source": []
  },
  {
   "cell_type": "markdown",
   "id": "3ec9bdfe",
   "metadata": {},
   "source": [
    "### 2.3. Retrieval"
   ]
  },
  {
   "cell_type": "markdown",
   "id": "9dd7d84b",
   "metadata": {},
   "source": [
    "\n",
    "上面建好了索引，现在进行检索："
   ]
  },
  {
   "cell_type": "code",
   "execution_count": null,
   "id": "498f1581",
   "metadata": {},
   "outputs": [],
   "source": [
    "# 返回 k 个最相关的文档\n",
    "retriever = vectorstore.as_retriever(search_kwargs={\"k\": 1})\n",
    "\n",
    "docs = retriever.get_relevant_documents(\"What is Task Decomposition?\")\n",
    "\n",
    "print(f\"Retrieved {len(docs)} documents\")\n",
    "print(docs[0])"
   ]
  },
  {
   "cell_type": "markdown",
   "id": "db708d01",
   "metadata": {},
   "source": []
  },
  {
   "cell_type": "markdown",
   "id": "3054825e",
   "metadata": {},
   "source": [
    "### 2.4. Generation"
   ]
  },
  {
   "cell_type": "markdown",
   "id": "1bec08d4",
   "metadata": {},
   "source": [
    "\n",
    "![](../img/overview-generation.png)\n",
    "\n",
    "> 在 LLM（大语言模型） 相关的 向量检索 / `ANN`（**Approximate Nearest Neighbor**, 近似最近邻） 场景里，HNSW 是一种非常常用的索引结构，含义是： `HNSW` = `Hierarchical Navigable Small World graph`，**分层可导航小世界图**。\n",
    "\n",
    "代码示例："
   ]
  },
  {
   "cell_type": "code",
   "execution_count": null,
   "id": "8fd8a05c",
   "metadata": {},
   "outputs": [],
   "source": [
    "from langchain_ollama import OllamaLLM\n",
    "from langchain.prompts import ChatPromptTemplate\n",
    "\n",
    "# Prompt\n",
    "template = \"\"\"Answer the question based only on the following context:\n",
    "{context}\n",
    "\n",
    "Question: {question}\n",
    "\"\"\"\n",
    "\n",
    "prompt = ChatPromptTemplate.from_template(template)\n",
    "\n",
    "# LLM\n",
    "llm = OllamaLLM(model=\"deepseek-r1:8b\")\n",
    "\n",
    "# Chain\n",
    "chain = prompt | llm\n",
    "\n",
    "# Run\n",
    "chain.invoke({\"context\":docs,\"question\":\"What is Task Decomposition?\"})"
   ]
  },
  {
   "cell_type": "markdown",
   "id": "b0ca0c1a",
   "metadata": {},
   "source": [
    "\n",
    "\n",
    "也可以使用封装的 prompt 模板，同时，构造完整的 RAG Chain："
   ]
  },
  {
   "cell_type": "code",
   "execution_count": null,
   "id": "4ed99294",
   "metadata": {},
   "outputs": [],
   "source": [
    "from langchain import hub\n",
    "from langchain_core.output_parsers import StrOutputParser\n",
    "from langchain_core.runnables import RunnablePassthrough\n",
    "\n",
    "# Pull a pre-made RAG prompt from LangChain Hub\n",
    "prompt_hub_rag = hub.pull(\"rlm/rag-prompt\")\n",
    "\n",
    "print(\"prompt_hub_rag: \" + str(prompt_hub_rag))\n",
    "\n",
    "# RAG Chain\n",
    "rag_chain = (\n",
    "    {\"context\": retriever, \"question\": RunnablePassthrough()}\n",
    "    | prompt\n",
    "    | llm\n",
    "    | StrOutputParser()\n",
    ")\n",
    "\n",
    "# Run\n",
    "rag_chain.invoke(\"What is Task Decomposition?\")"
   ]
  },
  {
   "cell_type": "markdown",
   "id": "7bb67c63",
   "metadata": {},
   "source": []
  },
  {
   "cell_type": "markdown",
   "id": "6e254ec2",
   "metadata": {},
   "source": [
    "## 3.进阶：查询转换（Query Translation）"
   ]
  },
  {
   "cell_type": "markdown",
   "id": "ab5af739",
   "metadata": {},
   "source": [
    "\n",
    "查询转换：将原始查询转换为更适合 LLM 理解的查询。\n",
    "\n",
    "几种常用方法：\n",
    "\n",
    "* **查询重写** `multi-query`：换种说法（可以重写3遍 or 5遍），表达查询意图。\n",
    "* **查询融合** `RAG-fusion`：将多个查询的关联文档进行融合（去重、Ranking Fusion），将最相关的文档排在最前面，输入给 LLM，获取最终答案。\n",
    "* **子查询** `sub-question`：复杂查询，依赖 LLM 生成多个子查询，然后分别检索，最后合并结果。\n",
    "* **后退查询** `step-back query`：将原始查询，转换为更通用的查询，然后检索，获取关联文档，输入给 LLM，获取最终答案。\n",
    "* **假设性文档嵌入** `HYDE`：让 llm 先生成一份书面的回答（`假设性回答`），并以此作为`查询嵌入`后，获取对应关联文档；再用 `原始查询` + 关联文档，获取最终生成的内容。\n",
    "\n",
    "\n",
    "构建基础信息："
   ]
  },
  {
   "cell_type": "code",
   "execution_count": null,
   "id": "ca52570a",
   "metadata": {},
   "outputs": [],
   "source": [
    "#### INDEXING ####\n",
    "\n",
    "# Load blog\n",
    "import bs4\n",
    "from langchain_community.document_loaders import WebBaseLoader\n",
    "loader = WebBaseLoader(\n",
    "    web_paths=(\"https://lilianweng.github.io/posts/2023-06-23-agent/\",),\n",
    "    bs_kwargs=dict(\n",
    "        parse_only=bs4.SoupStrainer(\n",
    "            class_=(\"post-content\", \"post-title\", \"post-header\")\n",
    "        )\n",
    "    ),\n",
    ")\n",
    "blog_docs = loader.load()\n",
    "\n",
    "# Split\n",
    "from langchain.text_splitter import RecursiveCharacterTextSplitter\n",
    "text_splitter = RecursiveCharacterTextSplitter.from_tiktoken_encoder(\n",
    "    chunk_size=300, chunk_overlap=50)\n",
    "\n",
    "# Make splits\n",
    "splits = text_splitter.split_documents(blog_docs)\n",
    "\n",
    "# Index\n",
    "from langchain_ollama import OllamaEmbeddings\n",
    "from langchain_community.vectorstores import Chroma\n",
    "vectorstore = Chroma.from_documents(documents=splits, \n",
    "                embedding=OllamaEmbeddings(model=\"nomic-embed-text\"))\n",
    "\n",
    "retriever = vectorstore.as_retriever()"
   ]
  },
  {
   "cell_type": "markdown",
   "id": "5e3d8141",
   "metadata": {},
   "source": []
  },
  {
   "cell_type": "markdown",
   "id": "c6aaa507",
   "metadata": {},
   "source": [
    "### 3.1.查询重写 Multi Query"
   ]
  },
  {
   "cell_type": "markdown",
   "id": "3e802a5e",
   "metadata": {},
   "source": [
    "\n",
    "典型的 prompt："
   ]
  },
  {
   "cell_type": "code",
   "execution_count": null,
   "id": "b96d18a1",
   "metadata": {},
   "outputs": [],
   "source": [
    "You are an AI language model assistant. \n",
    "Your task is to generate five different versions of the given user question to retrieve relevant documents from a vector database. \n",
    "By generating multiple perspectives on the user question, your goal is to help\n",
    "the user overcome some of the limitations of the distance-based similarity search. \n",
    "Provide these alternative questions separated by newlines. Original question: {question}"
   ]
  },
  {
   "cell_type": "markdown",
   "id": "fcb8a069",
   "metadata": {},
   "source": [
    "\n",
    "使用 LLM 重写查询语句（包含 Role、Goal、Constraints），返回多个查询语句，示例："
   ]
  },
  {
   "cell_type": "code",
   "execution_count": null,
   "id": "0916d4f6",
   "metadata": {},
   "outputs": [],
   "source": [
    "from langchain.prompts import ChatPromptTemplate\n",
    "\n",
    "# Multi Query: Different Perspectives\n",
    "template = \"\"\"You are an AI language model assistant. Your task is to generate five \n",
    "different versions of the given user question to retrieve relevant documents from a vector \n",
    "database. By generating multiple perspectives on the user question, your goal is to help\n",
    "the user overcome some of the limitations of the distance-based similarity search. \n",
    "Provide these alternative questions separated by newlines. Original question: {question}\"\"\"\n",
    "prompt_perspectives = ChatPromptTemplate.from_template(template)\n",
    "\n",
    "from langchain_core.output_parsers import StrOutputParser\n",
    "from langchain_ollama import OllamaLLM\n",
    "\n",
    "generate_queries = (\n",
    "    prompt_perspectives \n",
    "    | OllamaLLM(model=\"deepseek-r1:8b\") \n",
    "    | StrOutputParser() \n",
    "    | remove_think_tags\n",
    "    | (lambda x: x.split(\"\\n\"))\n",
    ")"
   ]
  },
  {
   "cell_type": "markdown",
   "id": "b0cec237",
   "metadata": {},
   "source": [
    "\n",
    "使用重写得到的 5 个 Query，分别检索，并将关联文档进行`去重`：\n",
    "\n",
    "> `dumps`、`loads`：LangChain 的序列化工具，对象转换为 JSON 字符串，并反序列化回来。"
   ]
  },
  {
   "cell_type": "code",
   "execution_count": null,
   "id": "b5613128",
   "metadata": {},
   "outputs": [],
   "source": [
    "from langchain.load import dumps, loads\n",
    "\n",
    "def get_unique_union(documents: list[list]):\n",
    "    \"\"\" Unique union of retrieved docs \"\"\"\n",
    "    # Flatten list of lists, and convert each Document to string\n",
    "    flattened_docs = [dumps(doc) for sublist in documents for doc in sublist]\n",
    "    # Get unique documents\n",
    "    unique_docs = list(set(flattened_docs))\n",
    "    # Return\n",
    "    return [loads(doc) for doc in unique_docs]\n",
    "\n",
    "# Retrieve\n",
    "question = \"What is task decomposition for LLM agents?\"\n",
    "retrieval_chain = generate_queries | retriever.map() | get_unique_union\n",
    "docs = retrieval_chain.invoke({\"question\":question})\n",
    "len(docs)"
   ]
  },
  {
   "cell_type": "markdown",
   "id": "71f9e9a3",
   "metadata": {},
   "source": [
    "\n",
    "使用上面得到的关联文档，输入给 LLM，获取最终答案："
   ]
  },
  {
   "cell_type": "code",
   "execution_count": null,
   "id": "581cd69b",
   "metadata": {},
   "outputs": [],
   "source": [
    "from operator import itemgetter\n",
    "from langchain_ollama import OllamaLLM\n",
    "from langchain_core.runnables import RunnablePassthrough\n",
    "\n",
    "# RAG\n",
    "template = \"\"\"Answer the following question based on this context:\n",
    "\n",
    "{context}\n",
    "\n",
    "Question: {question}\n",
    "\"\"\"\n",
    "\n",
    "prompt = ChatPromptTemplate.from_template(template)\n",
    "\n",
    "llm = OllamaLLM(model=\"deepseek-r1:8b\")\n",
    "\n",
    "final_rag_chain = (\n",
    "    {\"context\": retrieval_chain, \n",
    "     \"question\": itemgetter(\"question\")} \n",
    "    | prompt\n",
    "    | llm\n",
    "    | StrOutputParser()\n",
    ")\n",
    "\n",
    "final_rag_chain.invoke({\"question\":question})"
   ]
  },
  {
   "cell_type": "markdown",
   "id": "f877e96f",
   "metadata": {},
   "source": []
  },
  {
   "cell_type": "markdown",
   "id": "9ef3df91",
   "metadata": {},
   "source": [
    "### 3.2.查询融合 Rank Fusion"
   ]
  },
  {
   "cell_type": "markdown",
   "id": "eba410e7",
   "metadata": {},
   "source": [
    "\n",
    "**查询融合 RAG Fusion**：将多个查询的关联文档进行融合(**去重**、`Ranking Fusion`**排序**等)，将最相关的文档排在**最前面**，输入给 LLM，获取最终答案。\n",
    "\n",
    "![](../img/rag-fusion.png)\n",
    "\n",
    "下文没有突出 `查询重写`，所以，用了最简单的 prompt 来生成多个`查询`，实际场景中，建议使用 `查询重写`。"
   ]
  },
  {
   "cell_type": "code",
   "execution_count": null,
   "id": "97d4d739",
   "metadata": {},
   "outputs": [],
   "source": [
    "from langchain.prompts import ChatPromptTemplate\n",
    "\n",
    "# RAG-Fusion: Related\n",
    "template = \"\"\"You are a helpful assistant that generates multiple search queries based on a single input query. \\n\n",
    "Generate multiple search queries related to: {question} \\n\n",
    "Output (4 queries):\"\"\"\n",
    "prompt_rag_fusion = ChatPromptTemplate.from_template(template)\n",
    "\n",
    "# the pre-made prompt of hub:\n",
    "# from langchain import hub\n",
    "# prompt = hub.pull(\"langchain-ai/rag-fusion-query-generation\")"
   ]
  },
  {
   "cell_type": "markdown",
   "id": "3c5238e1",
   "metadata": {},
   "source": [
    "\n",
    "基于上述 prompt，构造 multi query chain："
   ]
  },
  {
   "cell_type": "code",
   "execution_count": null,
   "id": "6a5fe8ac",
   "metadata": {},
   "outputs": [],
   "source": [
    "from langchain_core.output_parsers import StrOutputParser\n",
    "from langchain_ollama import OllamaLLM\n",
    "\n",
    "generate_queries = (\n",
    "    prompt_rag_fusion \n",
    "    | OllamaLLM(model=\"deepseek-r1:8b\")\n",
    "    | StrOutputParser() \n",
    "    | remove_think_tags\n",
    "    | (lambda x: x.split(\"\\n\"))\n",
    ")"
   ]
  },
  {
   "cell_type": "markdown",
   "id": "1e0dc707",
   "metadata": {},
   "source": [
    "\n",
    "下面是 RAG Fusion 的核心，采用 `RRF`（**Reciprocal Rank Fusion**，倒数排序融合）来融合查询到的文档。\n",
    "\n",
    ">\n",
    "> **Reciprocal Rank Fusion (RRF)** `倒数排序融合`，做重排序。它常见于信息检索、RAG（Retrieval-Augmented Generation）等场景，用来把多个查询结果，融合成一个最终的排名。\n",
    "> \n",
    "> **核心思路**：\n",
    "> \n",
    "> * 假设有多个候选文档排名列表（来自不同检索模型或不同索引）。\n",
    "> * 对于某个文档，如果它在某个排序器中的位置是 `rank`，那么给它一个分数：\n",
    "> \n",
    "> $$\n",
    "> score = \\frac{1}{k + rank}\n",
    "> $$\n",
    "> \n",
    "> 其中 $k$ 是平滑常数（通常取 60 左右），弱化单次排序的影响。\n",
    "> \n",
    "> * 一个文档可能出现在多个排序结果中，就把它们的 RRF 分数加起来。\n",
    "> * 最后按总分数对所有候选文档重新排序，得到融合后的最终候选列表，分数越高排名越靠前。\n",
    "> \n",
    "> **优点**：\n",
    "> \n",
    "> * 简单、高效，不依赖复杂训练。\n",
    "> * 对排名靠前的文档敏感，保证多个检索器共同认为好的内容优先排前。\n",
    "> * 在 RAG 里，常用于结合 **稀疏检索（BM25）** 和 **稠密检索（embedding ANN）** 的结果，避免单一检索方式的局限。\n",
    "\n",
    "\n",
    "代码实例："
   ]
  },
  {
   "cell_type": "code",
   "execution_count": null,
   "id": "adf26f53",
   "metadata": {},
   "outputs": [],
   "source": [
    "from langchain.load import dumps, loads\n",
    "\n",
    "def reciprocal_rank_fusion(results: list[list], k=60):\n",
    "    \"\"\" Reciprocal_rank_fusion that takes multiple lists of ranked documents \n",
    "        and an optional parameter k used in the RRF formula \"\"\"\n",
    "    \n",
    "    # Initialize a dictionary to hold fused scores for each unique document\n",
    "    fused_scores = {}\n",
    "\n",
    "    # Iterate through each list of ranked documents\n",
    "    for docs in results:\n",
    "        \n",
    "        # Iterate through each document in the list, with its rank (position in the list)\n",
    "        for rank, doc in enumerate(docs):\n",
    "            # Convert the document to a string format to use as a key (assumes documents can be serialized to JSON)\n",
    "            doc_str = dumps(doc)\n",
    "            \n",
    "            # If the document is not yet in the fused_scores dictionary, add it with an initial score of 0\n",
    "            if doc_str not in fused_scores:\n",
    "                fused_scores[doc_str] = 0\n",
    "            \n",
    "            # Retrieve the current score of the document, if any\n",
    "            previous_score = fused_scores[doc_str]\n",
    "            \n",
    "            # Update the score of the document using the RRF formula: 1 / (rank + k)\n",
    "            # The core of RRF: documents ranked higher (lower rank value) get a larger score\n",
    "            fused_scores[doc_str] += 1 / (rank + k)\n",
    "\n",
    "    # Sort the documents based on their fused scores in descending order to get the final reranked results\n",
    "    reranked_results = [\n",
    "        (loads(doc), score)\n",
    "        for doc, score in sorted(fused_scores.items(), key=lambda x: x[1], reverse=True)\n",
    "    ]\n",
    "\n",
    "    # Return the reranked results as a list of tuples, \n",
    "    # each containing the document and its fused score\n",
    "    return reranked_results\n",
    "\n",
    "retrieval_chain_rag_fusion = generate_queries \n",
    "                    | retriever.map() \n",
    "                    | reciprocal_rank_fusion\n",
    "\n",
    "docs = retrieval_chain_rag_fusion.invoke({\"question\": question})\n",
    "len(docs)"
   ]
  },
  {
   "cell_type": "markdown",
   "id": "d0a3abb7",
   "metadata": {},
   "source": [
    "\n",
    "下面，编写 RAG Fusion Chain："
   ]
  },
  {
   "cell_type": "code",
   "execution_count": null,
   "id": "ede96b67",
   "metadata": {},
   "outputs": [],
   "source": [
    "from langchain_core.runnables import RunnablePassthrough\n",
    "\n",
    "# RAG\n",
    "template = \"\"\"Answer the following question based on this context:\n",
    "\n",
    "{context}\n",
    "\n",
    "Question: {question}\n",
    "\"\"\"\n",
    "\n",
    "prompt = ChatPromptTemplate.from_template(template)\n",
    "\n",
    "final_rag_chain = (\n",
    "    {\"context\": retrieval_chain_rag_fusion, \n",
    "     \"question\": itemgetter(\"question\")} \n",
    "    | prompt\n",
    "    | llm\n",
    "    | StrOutputParser()\n",
    ")\n",
    "\n",
    "final_rag_chain.invoke({\"question\":question})"
   ]
  },
  {
   "cell_type": "markdown",
   "id": "d24cca41",
   "metadata": {},
   "source": []
  },
  {
   "cell_type": "markdown",
   "id": "2af5d540",
   "metadata": {},
   "source": [
    "### 3.3.查询拆解 Query Decomposition"
   ]
  },
  {
   "cell_type": "markdown",
   "id": "e191a3d0",
   "metadata": {},
   "source": [
    "\n",
    "**查询拆解**：将原始查询拆分成多个`子查询`，然后`分别检索`，最后`合并`结果。\n",
    "\n",
    "**适用场景**：有些复杂问题，其中包含了多个子问题，**无法在一个步骤中解决**。例如，**What are the main components of an LLM-powered agent, and how do they interact?** 这实际就是 2 个问题。\n",
    "\n",
    "![](../img/query-decomposition.png)\n",
    "\n",
    "\n",
    "实际上，查询拆解为多个子查询后，不同的查询之间，可能存在 2 类关系：前后依赖、相互独立。\n",
    "\n",
    "典型的 prompt (Role、Goal、Constraints)："
   ]
  },
  {
   "cell_type": "code",
   "execution_count": null,
   "id": "3f4e760b",
   "metadata": {},
   "outputs": [],
   "source": [
    "You are a helpful assistant that generates multiple sub-questions related to an input question. \\n\n",
    "The goal is to break down the input into a set of sub-problems / sub-questions that can be answers in isolation. \\n\n",
    "Generate multiple search queries related to: {question} \\n\n",
    "Output (3 queries):"
   ]
  },
  {
   "cell_type": "markdown",
   "id": "c0ed80ca",
   "metadata": {},
   "source": [
    "\n",
    "查询拆解，获取到多个子查询，实例："
   ]
  },
  {
   "cell_type": "code",
   "execution_count": null,
   "id": "6b339a36",
   "metadata": {},
   "outputs": [],
   "source": [
    "from langchain.prompts import ChatPromptTemplate\n",
    "\n",
    "# Decomposition\n",
    "template = \"\"\"You are a helpful assistant that generates multiple sub-questions related to an input question. \\n\n",
    "The goal is to break down the input into a set of sub-problems / sub-questions that can be answers in isolation. \\n\n",
    "Generate multiple search queries related to: {question} \\n\n",
    "Output (3 queries):\"\"\"\n",
    "\n",
    "prompt_decomposition = ChatPromptTemplate.from_template(template)\n",
    "\n",
    "\n",
    "from langchain_ollama import OllamaLLM\n",
    "from langchain_core.output_parsers import StrOutputParser\n",
    "\n",
    "# LLM\n",
    "llm = OllamaLLM(model=\"deepseek-r1:8b\")\n",
    "\n",
    "# Chain\n",
    "generate_queries_decomposition = ( prompt_decomposition | llm | StrOutputParser() | (lambda x: x.split(\"\\n\")) | remove_think_tags)\n",
    "\n",
    "# Run\n",
    "question = \"What are the main components of an LLM-powered autonomous agent system?\"\n",
    "questions = generate_queries_decomposition.invoke({\"question\":question})\n",
    "\n",
    "print(questions)"
   ]
  },
  {
   "cell_type": "markdown",
   "id": "6f114c4f",
   "metadata": {},
   "source": [
    "\n",
    "使用上面得到的 questions，分别检索，并使用 RAG 获取答案，实例："
   ]
  },
  {
   "cell_type": "code",
   "execution_count": null,
   "id": "0dc7ff98",
   "metadata": {},
   "outputs": [],
   "source": [
    "# Answer each sub-question individually \n",
    "\n",
    "from langchain import hub\n",
    "from langchain_core.prompts import ChatPromptTemplate\n",
    "from langchain_core.runnables import RunnablePassthrough, RunnableLambda\n",
    "from langchain_core.output_parsers import StrOutputParser\n",
    "from langchain_ollama import OllamaLLM\n",
    "\n",
    "# RAG prompt\n",
    "prompt_rag = hub.pull(\"rlm/rag-prompt\")\n",
    "\n",
    "def retrieve_and_rag(question, prompt_rag, sub_question_generator_chain):\n",
    "    \"\"\"RAG on each sub-question\"\"\"\n",
    "    \n",
    "    # Use our decomposition / \n",
    "    sub_questions = sub_question_generator_chain.invoke({\"question\":question})\n",
    "    \n",
    "    # Initialize a list to hold RAG chain results\n",
    "    rag_results = []\n",
    "    \n",
    "    for sub_question in sub_questions:\n",
    "        \n",
    "        # Retrieve documents for each sub-question\n",
    "        retrieved_docs = retriever.get_relevant_documents(sub_question)\n",
    "        \n",
    "        # Use retrieved documents and sub-question in RAG chain\n",
    "        answer = (prompt_rag | llm | StrOutputParser() | remove_think_tags)\n",
    "                                .invoke({\"context\": retrieved_docs, \n",
    "                                        \"question\": sub_question})\n",
    "        rag_results.append(answer)\n",
    "    \n",
    "    return rag_results,sub_questions\n",
    "\n",
    "# Wrap the retrieval and RAG process in a RunnableLambda for integration into a chain\n",
    "answers, questions = retrieve_and_rag(question, \n",
    "                        prompt_rag, generate_queries_decomposition)\n",
    "\n",
    "\n",
    "# Q+A pairs\n",
    "def format_qa_pairs(questions, answers):\n",
    "    \"\"\"Format Q and A pairs\"\"\"\n",
    "    \n",
    "    formatted_string = \"\"\n",
    "    for i, (question, answer) in enumerate(zip(questions, answers), start=1):\n",
    "        formatted_string += f\"Question {i}: {question}\\nAnswer {i}: {answer}\\n\\n\"\n",
    "    return formatted_string.strip()\n",
    "\n",
    "context = format_qa_pairs(questions, answers)\n",
    "\n",
    "# Prompt\n",
    "template = \"\"\"Here is a set of Q+A pairs:\n",
    "\n",
    "{context}\n",
    "\n",
    "Use these to synthesize an answer to the question: {question}\n",
    "\"\"\"\n",
    "\n",
    "prompt = ChatPromptTemplate.from_template(template)\n",
    "\n",
    "final_rag_chain = (\n",
    "    prompt\n",
    "    | llm\n",
    "    | StrOutputParser()\n",
    ")\n",
    "\n",
    "final_rag_chain.invoke({\"context\":context,\"question\":question})"
   ]
  },
  {
   "cell_type": "markdown",
   "id": "6cfaa19b",
   "metadata": {},
   "source": []
  },
  {
   "cell_type": "markdown",
   "id": "59b61dee",
   "metadata": {},
   "source": [
    "### 3.4.后退查询 Step Back"
   ]
  },
  {
   "cell_type": "markdown",
   "id": "82d88c46",
   "metadata": {},
   "source": [
    "\n",
    "后退查询：将原始查询`后退`一步，重新构造查询，然后检索，获取答案。\n",
    "\n",
    "* 对`原始查询`，进行概念和原则的**抽象化处理**，从而引导更加深入的推理过程；\n",
    "* 一般会**去掉不必要的细节**，从而引导更加深入的推理过程；\n",
    "\n",
    "![](../img/query-step-back-prompt.png)\n",
    "\n",
    "上面示意图，列出了 `Step-back prompt`、`Sub-question`（`Query Decomposition`）、`Re-written`(`Multi-Query`&`RAG Fusion`) 3 个环节的位置。\n",
    "\n",
    "采用 小样本学习（few-shot），来引导 LLM 进行后退查询。"
   ]
  },
  {
   "cell_type": "code",
   "execution_count": null,
   "id": "3e899ce4",
   "metadata": {},
   "outputs": [],
   "source": [
    "# Few Shot Examples\n",
    "from langchain_core.prompts import ChatPromptTemplate, FewShotChatMessagePromptTemplate\n",
    "examples = [\n",
    "    {\n",
    "        \"input\": \"Could the members of The Police perform lawful arrests?\",\n",
    "        \"output\": \"what can the members of The Police do?\",\n",
    "    },\n",
    "    {\n",
    "        \"input\": \"Jan Sindel’s was born in what country?\",\n",
    "        \"output\": \"what is Jan Sindel’s personal history?\",\n",
    "    },\n",
    "]\n",
    "# We now transform these to example messages\n",
    "example_prompt = ChatPromptTemplate.from_messages(\n",
    "    [\n",
    "        (\"human\", \"{input}\"),\n",
    "        (\"ai\", \"{output}\"),\n",
    "    ]\n",
    ")\n",
    "few_shot_prompt = FewShotChatMessagePromptTemplate(\n",
    "    example_prompt=example_prompt,\n",
    "    examples=examples,\n",
    ")\n",
    "prompt = ChatPromptTemplate.from_messages(\n",
    "    [\n",
    "        (\n",
    "            \"system\",\n",
    "            \"\"\"You are an expert at world knowledge. Your task is to step back and paraphrase a question to a more generic step-back question, which is easier to answer. Here are a few examples:\"\"\",\n",
    "        ),\n",
    "        # Few shot examples\n",
    "        few_shot_prompt,\n",
    "        # New question\n",
    "        (\"user\", \"{question}\"),\n",
    "    ]\n",
    ")\n",
    "\n",
    "# step-back chain\n",
    "generate_queries_step_back = prompt \n",
    "    | OllamaLLM(model=\"deepseek-r1:8b\") \n",
    "    | StrOutputParser()\n",
    "    | remove_think_tags"
   ]
  },
  {
   "cell_type": "markdown",
   "id": "853f1376",
   "metadata": {},
   "source": [
    "\n",
    "使用上面得到的 query，进行检索，并使用 RAG 获取答案，实例："
   ]
  },
  {
   "cell_type": "code",
   "execution_count": null,
   "id": "7b80eec3",
   "metadata": {},
   "outputs": [],
   "source": [
    "# Response prompt \n",
    "response_prompt_template = \"\"\"You are an expert of world knowledge. I am going to ask you a question. Your response should be comprehensive and not contradicted with the following context if they are relevant. Otherwise, ignore them if they are not relevant.\n",
    "\n",
    "# {normal_context}\n",
    "# {step_back_context}\n",
    "\n",
    "# Original Question: {question}\n",
    "# Answer:\"\"\"\n",
    "response_prompt = ChatPromptTemplate.from_template(response_prompt_template)\n",
    "\n",
    "chain = (\n",
    "    {\n",
    "        # Retrieve context using the normal question\n",
    "        \"normal_context\": RunnableLambda(lambda x: x[\"question\"]) | retriever,\n",
    "        # Retrieve context using the step-back question\n",
    "        \"step_back_context\": generate_queries_step_back | retriever,\n",
    "        # Pass on the question\n",
    "        \"question\": lambda x: x[\"question\"],\n",
    "    }\n",
    "    | response_prompt\n",
    "    | OllamaLLM(model=\"deepseek-r1:8b\")\n",
    "    | StrOutputParser()\n",
    ")\n",
    "\n",
    "chain.invoke({\"question\": question})"
   ]
  },
  {
   "cell_type": "markdown",
   "id": "267d0930",
   "metadata": {},
   "source": []
  },
  {
   "cell_type": "markdown",
   "id": "7b260b79",
   "metadata": {},
   "source": [
    "### 3.5.假设性文档嵌入 HYDE"
   ]
  },
  {
   "cell_type": "markdown",
   "id": "a62c9baf",
   "metadata": {},
   "source": [
    "\n",
    "![](../img/query-HYDE.png)\n",
    "\n",
    "查询相关文档时，最主要的问题是：查询用语 跟 文档内容之间，存在术语不统一、词表不一致的问题。\n",
    "\n",
    "**HyDE (Hypothetical Document Embeddings)** ：让 llm 先生成一份书面的回答（`假设性回答`），并以此作为`查询嵌入`后，获取对应关联文档；再用 `原始查询` + 关联文档，获取最终生成的内容。\n",
    "\n",
    "* `ori-Query` -> LLM -> **Hypothetical Answer**(`hypo-Query`) -> Retrieval -> `Documents`\n",
    "* `ori-Query` + `Documents` -> LLM -> Answer\n",
    "\n",
    "\n",
    "采用 HYDE（`Hypothetical Document Embeddings` 假设性回答文档嵌入） 实例："
   ]
  },
  {
   "cell_type": "code",
   "execution_count": null,
   "id": "f0ba80ca",
   "metadata": {},
   "outputs": [],
   "source": [
    "from langchain.prompts import ChatPromptTemplate\n",
    "\n",
    "# HyDE document generation\n",
    "template = \"\"\"Please write a scientific paper passage to answer the question\n",
    "Question: {question}\n",
    "Passage:\"\"\"\n",
    "prompt_hyde = ChatPromptTemplate.from_template(template)\n",
    "\n",
    "from langchain_core.output_parsers import StrOutputParser\n",
    "from langchain_ollama import OllamaLLM\n",
    "\n",
    "generate_docs_for_retrieval = (\n",
    "    prompt_hyde \n",
    "    | OllamaLLM(model=\"deepseek-r1:8b\") \n",
    "    | StrOutputParser() \n",
    "    | remove_think_tags\n",
    ")\n",
    "\n",
    "# Run\n",
    "question = \"What is task decomposition for LLM agents?\"\n",
    "generate_docs_for_retrieval.invoke({\"question\":question})"
   ]
  },
  {
   "cell_type": "markdown",
   "id": "66b86dad",
   "metadata": {},
   "source": [
    "\n",
    "使用上面得到的假设性文档，进行检索，并使用 RAG 获取答案，实例："
   ]
  },
  {
   "cell_type": "code",
   "execution_count": null,
   "id": "eb595569",
   "metadata": {},
   "outputs": [],
   "source": [
    "# Retrieve\n",
    "retrieval_chain = generate_docs_for_retrieval | retriever \n",
    "retrieved_docs = retrieval_chain.invoke({\"question\":question})\n",
    "\n",
    "# RAG\n",
    "template = \"\"\"Answer the following question based on this context:\n",
    "\n",
    "{context}\n",
    "\n",
    "Question: {question}\n",
    "\"\"\"\n",
    "\n",
    "prompt = ChatPromptTemplate.from_template(template)\n",
    "\n",
    "final_rag_chain = (\n",
    "    prompt\n",
    "    | llm\n",
    "    | StrOutputParser()\n",
    ")\n",
    "\n",
    "final_rag_chain.invoke({\"context\":retrieved_docs,\"question\":question})"
   ]
  },
  {
   "cell_type": "markdown",
   "id": "5a68276e",
   "metadata": {},
   "source": []
  },
  {
   "cell_type": "markdown",
   "id": "615451ab",
   "metadata": {},
   "source": [
    "## 4.进阶：路由（Routing）"
   ]
  },
  {
   "cell_type": "markdown",
   "id": "2c848a2d",
   "metadata": {},
   "source": [
    "\n",
    "![](../img/routing.png)\n",
    "\n",
    "路由的本质：使用 llm 进行问题分类，路由到不同的数据源。\n",
    "\n",
    "下面只是示例，实际无法运行，而且由于 Ollama 未实现 langchain 的 `with_structured_output`，所以，下面示例代码采用 OpenAI 的 llm ："
   ]
  },
  {
   "cell_type": "code",
   "execution_count": null,
   "id": "c870723f",
   "metadata": {},
   "outputs": [],
   "source": [
    "# Set OpenAI API key for using OpenAI models\n",
    "# os.environ['OPENAI_API_KEY'] = '<test-api-key>'  # Replace with your OpenAI API key\n",
    "\n",
    "from typing import Literal\n",
    "\n",
    "from langchain_core.prompts import ChatPromptTemplate\n",
    "from langchain_core.pydantic_v1 import BaseModel, Field\n",
    "from langchain_openai import ChatOpenAI\n",
    "\n",
    "# Data model\n",
    "class RouteQuery(BaseModel):\n",
    "    \"\"\"Route a user query to the most relevant datasource.\"\"\"\n",
    "\n",
    "    datasource: Literal[\"python_docs\", \"js_docs\", \"golang_docs\"] = Field(\n",
    "        ...,\n",
    "        description=\"Given a user question choose which datasource would be most relevant for answering their question\",\n",
    "    )\n",
    "\n",
    "# LLM with function call \n",
    "llm = ChatOpenAI(model=\"gpt-3.5-turbo-0125\", temperature=0)\n",
    "structured_llm = llm.with_structured_output(RouteQuery)\n",
    "\n",
    "# Prompt \n",
    "system = \"\"\"You are an expert at routing a user question to the appropriate data source.\n",
    "\n",
    "Based on the programming language the question is referring to, route it to the relevant data source.\"\"\"\n",
    "\n",
    "prompt = ChatPromptTemplate.from_messages(\n",
    "    [\n",
    "        (\"system\", system),\n",
    "        (\"human\", \"{question}\"),\n",
    "    ]\n",
    ")\n",
    "\n",
    "# Define router \n",
    "router = prompt | structured_llm"
   ]
  },
  {
   "cell_type": "markdown",
   "id": "99873baa",
   "metadata": {},
   "source": [
    "\n",
    "上面定义了 router，使用时，直接调用即可："
   ]
  },
  {
   "cell_type": "code",
   "execution_count": null,
   "id": "6f4e9636",
   "metadata": {},
   "outputs": [],
   "source": [
    "# logic after routing\n",
    "def choose_route(result):\n",
    "    if \"python_docs\" in result.datasource.lower():\n",
    "        ### Logic here \n",
    "        return \"chain for python_docs\"\n",
    "    elif \"js_docs\" in result.datasource.lower():\n",
    "        ### Logic here \n",
    "        return \"chain for js_docs\"\n",
    "    else:\n",
    "        ### Logic here \n",
    "        return \"golang_docs\"\n",
    "\n",
    "from langchain_core.runnables import RunnableLambda\n",
    "\n",
    "# router chain\n",
    "full_chain = router | RunnableLambda(choose_route)\n",
    "\n",
    "# run\n",
    "question = \"\"\"Why doesn't the following code work:\n",
    "\n",
    "from langchain_core.prompts import ChatPromptTemplate\n",
    "\n",
    "prompt = ChatPromptTemplate.from_messages([\"human\", \"speak in {language}\"])\n",
    "prompt.invoke(\"french\")\n",
    "\"\"\"\n",
    "full_chain.invoke({\"question\": question})"
   ]
  },
  {
   "cell_type": "markdown",
   "id": "55fb75a0",
   "metadata": {},
   "source": [
    "\n",
    "> [补充]：上面只是 `logic 路由`，此外，还有 `semantic 路由`。"
   ]
  },
  {
   "cell_type": "markdown",
   "id": "08091b53",
   "metadata": {},
   "source": [
    "## 5.进阶：查询抽取（Query Construction）"
   ]
  },
  {
   "cell_type": "markdown",
   "id": "19a9d468",
   "metadata": {},
   "source": [
    "\n",
    "依赖 llm，从原始 text 中，抽取出 SQL、Cypher、metadatas，分别用于 关系数据库、图数据库、向量数据库的查询。\n",
    "\n",
    "完整细节，参考：\n",
    "\n",
    "* [Query Construction](https://blog.langchain.com/query-construction/)\n",
    "* [Enhancing RAG-based application accuracy by constructing and leveraging knowledge graphs](https://blog.langchain.dev/enhancing-rag-based-applications-accuracy-by-constructing-and-leveraging-knowledge-graphs/)"
   ]
  },
  {
   "cell_type": "markdown",
   "id": "4fc76eec",
   "metadata": {},
   "source": [
    "## 6.进阶：索引优化（Indexing）"
   ]
  },
  {
   "cell_type": "markdown",
   "id": "23c96261",
   "metadata": {},
   "source": [
    "\n",
    "\n",
    "几种典型方法：\n",
    "\n",
    "* **多表征索引** `multi-representation` ，将文本做摘要，并将摘要嵌入向量数据库，匹配到之后，获取对应原始文档，构建上下文，进行生成。\n",
    "* **摘要树索引** `RAPTOR`：递归摘要索引，可以获取中间层摘要，进行检索。\n",
    "* **ColBERT**：上下文感知的嵌入模型，可以获取更细粒度的相关性。"
   ]
  },
  {
   "cell_type": "markdown",
   "id": "5ee0ca7d",
   "metadata": {},
   "source": [
    "### 6.1.多表征索引 Multi-Representation Indexing"
   ]
  },
  {
   "cell_type": "markdown",
   "id": "9d799cf9",
   "metadata": {},
   "source": [
    "\n",
    "文档分块大小，有一个困境：\n",
    "\n",
    "1. **文档过长**时，直接进行`嵌入`，会丢失其中的一些**语义**；\n",
    "2. 如果文档 `分块` **过小**，则，可能会丢失部分**上下文**。\n",
    "\n",
    "一种典型的解决办法 `multi-representation` 索引（**多表征索引**）：依赖 llm，对原始文档做摘要，并将摘要嵌入向量数据库，匹配到之后，获取对应原始文档，构建上下文，进行生成。\n",
    "\n",
    "![](../img/multi-representation-index.png)\n",
    "\n",
    "\n",
    "下面编写一个，实例：两个文档，都生成摘要，并且存储到向量数据库中；查询的时候，匹配到最近的摘要，并获取对应的原始文档。"
   ]
  },
  {
   "cell_type": "code",
   "execution_count": null,
   "id": "6f2cccea",
   "metadata": {},
   "outputs": [],
   "source": [
    "from langchain_community.document_loaders import WebBaseLoader\n",
    "\n",
    "# Load two different blog posts to create a more diverse knowledge base\n",
    "loader = WebBaseLoader(\"https://lilianweng.github.io/posts/2023-06-23-agent/\")\n",
    "docs = loader.load()\n",
    "\n",
    "loader = WebBaseLoader(\"https://lilianweng.github.io/posts/2024-02-05-human-data-quality/\")\n",
    "docs.extend(loader.load())\n",
    "\n",
    "print(f\"Loaded {len(docs)} documents.\")"
   ]
  },
  {
   "cell_type": "markdown",
   "id": "c9f6ee89",
   "metadata": {},
   "source": [
    "\n",
    "对两个文档，生成摘要："
   ]
  },
  {
   "cell_type": "code",
   "execution_count": null,
   "id": "e6b45726",
   "metadata": {},
   "outputs": [],
   "source": [
    "import uuid\n",
    "from langchain_core.output_parsers import StrOutputParser\n",
    "from langchain_core.prompts import ChatPromptTemplate\n",
    "\n",
    "# The chain for generating summaries\n",
    "summary_chain = (\n",
    "    # Extract the page_content from the document object\n",
    "    {\"doc\": lambda x: x.page_content}\n",
    "    # Pipe it into a prompt template\n",
    "    | ChatPromptTemplate.from_template(\"Summarize the following document:\\n\\n{doc}\")\n",
    "    # Use an LLM to generate the summary\n",
    "    | OllamaLLM(model=\"deepseek-r1:8b\")\n",
    "    | remove_think_tags\n",
    "    # Parse the output into a string\n",
    "    | StrOutputParser()\n",
    ")\n",
    "\n",
    "# Use .batch() to run the summarization in parallel for efficiency\n",
    "summaries = summary_chain.batch(docs, {\"max_concurrency\": 5})\n",
    "\n",
    "# Let's inspect the first summary\n",
    "print(summaries[0])"
   ]
  },
  {
   "cell_type": "markdown",
   "id": "c98248df",
   "metadata": {},
   "source": [
    "\n",
    "使用 `MultiVectorRetriever` 构建索引，其内部包含 2 个组件：\n",
    "\n",
    "1. `vectorstore`：存储摘要的嵌入向量；\n",
    "2. `docstore` (简单的 key-value store) ：存储原始文档。\n",
    "\n",
    "实例代码："
   ]
  },
  {
   "cell_type": "code",
   "execution_count": null,
   "id": "112b26d6",
   "metadata": {},
   "outputs": [],
   "source": [
    "from langchain.storage import InMemoryByteStore\n",
    "from langchain.retrievers.multi_vector import MultiVectorRetriever\n",
    "from langchain_core.documents import Document\n",
    "\n",
    "# The vectorstore to index the summary embeddings\n",
    "vectorstore = Chroma(collection_name=\"summaries\", \n",
    "                    embedding_function=OllamaEmbeddings(model=\"nomic-embed-text\"))\n",
    "\n",
    "# The storage layer for the parent documents\n",
    "store = InMemoryByteStore()\n",
    "id_key = \"doc_id\" # This key will link summaries to their parent documents\n",
    "\n",
    "# The retriever that orchestrates the whole process\n",
    "retriever = MultiVectorRetriever(\n",
    "    vectorstore=vectorstore,\n",
    "    byte_store=store,\n",
    "    id_key=id_key,\n",
    ")\n",
    "\n",
    "# Generate unique IDs for each of our original documents\n",
    "doc_ids = [str(uuid.uuid4()) for _ in docs]\n",
    "\n",
    "# Create new Document objects for the summaries, adding the 'doc_id' to their metadata\n",
    "summary_docs = [\n",
    "    Document(page_content=s, metadata={id_key: doc_ids[i]})\n",
    "    for i, s in enumerate(summaries)\n",
    "]\n",
    "\n",
    "# Add the summaries to the vectorstore\n",
    "retriever.vectorstore.add_documents(summary_docs)\n",
    "\n",
    "# Add the original documents to the docstore, linking them by the same IDs\n",
    "retriever.docstore.mset(list(zip(doc_ids, docs)))"
   ]
  },
  {
   "cell_type": "markdown",
   "id": "0493c3d2",
   "metadata": {},
   "source": [
    "\n",
    "上面已经构建完索引了，直接检索（先语义检索，再获取原始文档）："
   ]
  },
  {
   "cell_type": "code",
   "execution_count": null,
   "id": "0aef41f5",
   "metadata": {},
   "outputs": [],
   "source": [
    "query = \"Memory in agents\"\n",
    "\n",
    "# First, let's see what the vectorstore finds by searching the summaries\n",
    "sub_docs = vectorstore.similarity_search(query, k=1)\n",
    "print(\"--- Result from searching summaries ---\")\n",
    "print(sub_docs[0].page_content)\n",
    "print(\"\\n--- Metadata showing the link to the parent document ---\")\n",
    "print(sub_docs[0].metadata)\n",
    "\n",
    "# Second, Let the full retriever do its job\n",
    "retrieved_docs = retriever.get_relevant_documents(query, n_results=1)\n",
    "\n",
    "# Print the beginning of the retrieved full document\n",
    "print(\"\\n--- The full document retrieved by the MultiVectorRetriever ---\")\n",
    "print(retrieved_docs[0].page_content[0:5000])"
   ]
  },
  {
   "cell_type": "markdown",
   "id": "e606a1a4",
   "metadata": {},
   "source": [
    "\n",
    "更多信息，参考： \n",
    "\n",
    "* [MultiVectorRetriever](https://python.langchain.com/api_reference/langchain/retrievers/langchain.retrievers.multi_vector.MultiVectorRetriever.html#multivectorretriever) \n",
    "* [How to use the Parent Document Retriever](https://python.langchain.com/docs/how_to/parent_document_retriever/#retrieving-larger-chunks)：直接使用 `ParentDocumentRetriever` 检索，可以根据 `child chunk` 检索，获取对应 `parent chunk`，而不是完整 doc。（备注：如果不设置 parent_splitter， 则，也可以直接获取完整 doc）\n",
    "\n",
    "**备注**：ParentDocumentRetriever 的定义，参考下面"
   ]
  },
  {
   "cell_type": "code",
   "execution_count": null,
   "id": "5099cce6",
   "metadata": {},
   "outputs": [],
   "source": [
    "retriever = ParentDocumentRetriever(\n",
    "    vectorstore=vectorstore,\n",
    "    docstore=store,\n",
    "    child_splitter=child_splitter,\n",
    "    parent_splitter=parent_splitter,\n",
    ")"
   ]
  },
  {
   "cell_type": "markdown",
   "id": "983fa7ee",
   "metadata": {},
   "source": []
  },
  {
   "cell_type": "markdown",
   "id": "07c8612d",
   "metadata": {},
   "source": [
    "### 6.2.摘要树索引 RAPTOR"
   ]
  },
  {
   "cell_type": "markdown",
   "id": "8e481d61",
   "metadata": {},
   "source": [
    "\n",
    "`RAPTOR`，**Recursive Abstractive Processing for Tree-Organized Retrieval**(2024)\n",
    "\n",
    "![](../img/RAPTOR.png)\n",
    "\n",
    "\n",
    "相对于上一节的 multi-representation 索引，RAPTOR 本质是升级后的：树状摘要索引\n",
    "\n",
    "1.分片：原始文档分割为多个 chunk，称为叶子节点\n",
    "2.聚类+摘要：关联度高的 chunk，聚为一个 cluster，生成摘要节点，作为中间节点\n",
    "3.递归：中间节点，可以进一步聚类为 cluster、并重新生成摘要。\n",
    "4.最终摘要：最终所有分片形成的一份总摘要，作为根节点。\n",
    "\n",
    "摘要树索引，我们可以在中间层检索。\n",
    "\n",
    "详细信息，参考：[langchain:RAPTOR](https://github.com/langchain-ai/langchain/blob/master/cookbook/RAPTOR.ipynb)"
   ]
  },
  {
   "cell_type": "markdown",
   "id": "971b95d6",
   "metadata": {},
   "source": [
    "### 6.3.ColBERT"
   ]
  },
  {
   "cell_type": "markdown",
   "id": "bb7700a4",
   "metadata": {},
   "source": [
    "\n",
    "**背景**：标准的嵌入模型（比如：`nomic-embed-text`），对整个 chunk 生成一个向量，会丢失很多细节。\n",
    "\n",
    "**ColBERT** ：`Contextualized Late Interaction over BERT`，提供了一种更细粒度的方法。它为文档中的 **每个单个 token** 生成一个单独的、上下文感知的嵌入。\n",
    "\n",
    "当你进行查询时，ColBERT 也会嵌入查询中的每个 token。然后，不是将一个文档向量与一个查询向量进行比较，而是找到**每个**`查询 token`与**每一个**`文档 token`之间的最大相似度。文档得分，为所有查询 token 与文档 token 之间的最大相似度之和。\n",
    "\n",
    "这种`晚交互`允许对**相关性**进行更细粒度的理解，在`关键词搜索`中表现出色。\n",
    "\n",
    "借助 `RAGatouille` 库，我们可以很容易地使用 ColBERT。\n",
    "\n",
    "更多细节，参考： [here](https://hackernoon.com/how-colbert-helps-developers-overcome-the-limits-of-rag) and [here](https://python.langchain.com/docs/integrations/retrievers/ragatouille) and [here](https://til.simonwillison.net/llms/colbert-ragatouille)."
   ]
  },
  {
   "cell_type": "markdown",
   "id": "ebd70a5f",
   "metadata": {},
   "source": [
    "## 7.进阶：检索优化（Retrieval）"
   ]
  },
  {
   "cell_type": "markdown",
   "id": "6b05db00",
   "metadata": {},
   "source": [
    "\n",
    "第一步，获取到一批关联文档后，要进行**重排**（`精排`），目标是：**将最相关的文档，放到最前面**，这样 llm 产生的结果质量最高。\n",
    "\n",
    "通常，进行重排（Re-rank）的模型，**更精细**、也**更耗计算**资源。前面做 RAG-Fusion 时，使用的 RRF(Reciprocal Rank Fusion，倒排融合)，也是一种重排模型。"
   ]
  },
  {
   "cell_type": "markdown",
   "id": "0da8239a",
   "metadata": {},
   "source": [
    "### 7.1.Cohere Re-Rank 重排"
   ]
  },
  {
   "cell_type": "markdown",
   "id": "734034b0",
   "metadata": {},
   "source": [
    "\n",
    "现在我们用一种`专用的重排模型`， [langchain：Cohere Re-Rank](https://python.langchain.com/docs/integrations/retrievers/cohere-reranker#doing-reranking-with-coherererank)：Cohere 的 re-ranker，可以用于 RAG 的检索优化；更多细节，参考 [Cohere：Re-Rank](https://txt.cohere.com/rerank/)。\n",
    "\n",
    "实例："
   ]
  },
  {
   "cell_type": "code",
   "execution_count": null,
   "id": "be218286",
   "metadata": {},
   "outputs": [],
   "source": [
    "# You will need to install cohere: pip install cohere\n",
    "\n",
    "# You will need to set your COHERE_API_KEY environment variable\n",
    "# os.environ['COHERE_API_KEY'] = '<your-cohere-api-key>'\n",
    "\n",
    "# Load, split, and index the document\n",
    "loader = WebBaseLoader(web_paths=(\"https://lilianweng.github.io/posts/2023-06-23-agent/\",))\n",
    "blog_docs = loader.load()\n",
    "text_splitter = RecursiveCharacterTextSplitter.from_tiktoken_encoder(chunk_size=300, chunk_overlap=50)\n",
    "splits = text_splitter.split_documents(blog_docs)\n",
    "vectorstore = Chroma.from_documents(documents=splits, embedding=OllamaEmbeddings(model=\"nomic-embed-text\"))\n",
    "\n",
    "\n",
    "from langchain_community.llms import Cohere\n",
    "from langchain.retrievers import  ContextualCompressionRetriever\n",
    "from langchain.retrievers.document_compressors import CohereRerank\n",
    "\n",
    "# First-pass retriever: get the top 10 potentially relevant documents\n",
    "retriever = vectorstore.as_retriever(search_kwargs={\"k\": 10})\n",
    "\n",
    "# Re-rank\n",
    "# Initialize the Cohere Rerank model\n",
    "compressor = CohereRerank()\n",
    "# Create the compression retriever\n",
    "compression_retriever = ContextualCompressionRetriever(\n",
    "    base_compressor=compressor, base_retriever=retriever\n",
    ")\n",
    "\n",
    "# Let's test it with our query\n",
    "question = \"What is task decomposition for LLM agents?\"\n",
    "compressed_docs = compression_retriever.get_relevant_documents(question)\n",
    "\n",
    "# Print the re-ranked documents\n",
    "print(\"--- Re-ranked and Compressed Documents ---\")\n",
    "for doc in compressed_docs:\n",
    "    print(f\"Relevance Score: {doc.metadata['relevance_score']:.4f}\")\n",
    "    print(f\"Content: {doc.page_content[:150]}...\\n\")"
   ]
  },
  {
   "cell_type": "markdown",
   "id": "cf40f731",
   "metadata": {},
   "source": [
    "\n",
    "从上面可以看出 Cohere 需要 API key，才能调用；并且返回结果中，也返回了 `relevance_score` 相关度评分。"
   ]
  },
  {
   "cell_type": "markdown",
   "id": "7301fe58",
   "metadata": {},
   "source": [
    "### 7.2.CRAG(Corrective RAG)"
   ]
  },
  {
   "cell_type": "markdown",
   "id": "638d3f5a",
   "metadata": {},
   "source": [
    "\n",
    "**焦点**：`CRAG`(Corrective RAG)，判断文档是否跟问题相关，如果不相关，则，重新查找文档。当确定文档相关后，再构造上下文，传入 llm 生成。\n",
    "\n",
    "![](../img/crag.png)\n",
    "\n",
    "更多细节：\n",
    "\n",
    "* [langchain：C-RAG](https://github.com/langchain-ai/langgraph/blob/main/examples/rag/langgraph_crag.ipynb)\n",
    "* [langchain：C-RAG with Mistral](https://github.com/langchain-ai/langgraph/blob/main/examples/rag/langgraph_crag_mistral.ipynb)"
   ]
  },
  {
   "cell_type": "markdown",
   "id": "43f3390c",
   "metadata": {},
   "source": [
    "## 8.进阶：生成优化（Generation）"
   ]
  },
  {
   "cell_type": "markdown",
   "id": "ad6b1fd5",
   "metadata": {},
   "source": []
  },
  {
   "cell_type": "markdown",
   "id": "1729234d",
   "metadata": {},
   "source": [
    "### 8.1.Self-RAG"
   ]
  },
  {
   "cell_type": "markdown",
   "id": "063a7231",
   "metadata": {},
   "source": [
    "\n",
    "**Self-RAG:** This approach takes it a step further. At each step, it uses an LLM to generate “reflection tokens” that critique the process. It grades the retrieved documents for relevance. If they’re not relevant, it retrieves again. Once it has good documents, it generates an answer and then grades that answer for factual consistency, ensuring it’s grounded in the source documents.\n",
    "\n",
    "更多细节：\n",
    "\n",
    "* [langchain：RAG](https://github.com/langchain-ai/langgraph/tree/main/examples/rag)\n",
    "\n",
    "* [langchain：Self-RAG with Mistral](https://github.com/langchain-ai/langgraph/blob/main/examples/rag/langgraph_self_rag_mistral_nomic.ipynb)"
   ]
  },
  {
   "cell_type": "markdown",
   "id": "3c65365f",
   "metadata": {},
   "source": [
    "## 9.进阶：long context 的影响"
   ]
  },
  {
   "cell_type": "markdown",
   "id": "99100dad",
   "metadata": {},
   "source": [
    "\n",
    "使用 RAG，一般因为`long context`问题，导致 llm 无法处理；现在随着技术发展，上下文窗口已经扩展到 128k、200k、 甚至 1 million tokens。\n",
    "\n",
    "**疑问**：RAG 是否还有必要？如果把所有 doc 都放到 prompt 中，是否可以？\n",
    "\n",
    "长上下文模型，非常有用；但研究标明，关联文档混在超长上下文中，会导致语义衰减、效果衰退。（类似大海捞针的问题）。当前，RAG 和 长上下文技术，都有适用场景：\n",
    "\n",
    "* RAG 的优势：准确的找出最相关的文档内容，让 llm 聚焦在这一部分、生成更精确的内容。\n",
    "* 长上下文的优势：对于散落在文档中的内容，没有明显聚集效应的信息，从中综合生成摘要/推理信息，更加高效。\n",
    "\n",
    "未来，可能是组合使用：RAG 获取更多相关文档、长上下文中进行总结续写。\n",
    "\n",
    "更多细节，参考： **Slides on Long Context:** [The Impact of Long Context on RAG](https://docs.google.com/presentation/d/1mJUiPBdtf58NfuSEQ7pVSEQ2Oqmek7F1i4gBwR6JDss/edit#slide=id.g26c0cb8dc66_0_0)"
   ]
  },
  {
   "cell_type": "markdown",
   "id": "168b97e2",
   "metadata": {},
   "source": [
    "## 10.效果评估"
   ]
  },
  {
   "cell_type": "markdown",
   "id": "157d5c52",
   "metadata": {},
   "source": [
    "\n",
    "我们设计了各种优化策略，如何评估是否有效？在生产环境中，仅仅是`貌似有用`远远不够，需要一套可靠的指标，用于衡量性能、指导改进。"
   ]
  },
  {
   "cell_type": "markdown",
   "id": "88e84ba9",
   "metadata": {},
   "source": [
    "### 10.1.度量指标"
   ]
  },
  {
   "cell_type": "markdown",
   "id": "59393ef5",
   "metadata": {},
   "source": [
    "\n",
    "明确具体指标前，先明确几个好的`RAG`的原则：\n",
    "\n",
    "1. **可信度 Faithfulness:** 答案是否严格遵循提供的内容？可信的答案不会捏造信息或使用 LLM 的预训练知识来回答。这是防止幻觉的最重要的指标。\n",
    "2. **正确性 Correctness:** 答案是否事实正确？当与“ground truth 公理”或 参考答案进行比较时，是否一致。\n",
    "3. **上下文相关性 Contextual Relevancy:** 查询到的文档，跟查询是否真正相关？这评估了我们的检索器，而不是生成器。\n",
    "\n",
    "上面前 2 个，都是对检索+生成器（llm）的整体评估；第 3 个，是对检索器（retriever）的评估。"
   ]
  },
  {
   "cell_type": "markdown",
   "id": "b650b6ff",
   "metadata": {},
   "source": [
    "### 10.2.手动评估 & 自动评估"
   ]
  },
  {
   "cell_type": "markdown",
   "id": "26b55b09",
   "metadata": {},
   "source": [
    "\n",
    "手动评估，是评估 RAG 效果的最直接方式。通过人工阅读检索到的文档，并根据问题和答案，判断是否符合要求。\n",
    "\n",
    "自动评估，一般使用`更高一级的 llm`，对答案打分。\n",
    "\n",
    "下面用 `llm` 进行自动评估，主要是`正确性`打分 0~1："
   ]
  },
  {
   "cell_type": "code",
   "execution_count": null,
   "id": "c33c99b1",
   "metadata": {},
   "outputs": [],
   "source": [
    "# Set OpenAI API key for using OpenAI models\n",
    "# os.environ['OPENAI_API_KEY'] = '<test-api-key>'  # Replace with your OpenAI API key\n",
    "\n",
    "from langchain.prompts import PromptTemplate\n",
    "from langchain_core.pydantic_v1 import BaseModel, Field\n",
    "from langchain_openai import ChatOpenAI\n",
    "\n",
    "# We'll use a powerful LLM like gpt-4o to act as our \"judge\" for reliable evaluation.\n",
    "llm = ChatOpenAI(temperature=0, model_name=\"gpt-4o\", max_tokens=4000)\n",
    "\n",
    "# Define the output schema for our evaluation score to ensure consistent, structured output.\n",
    "class ResultScore(BaseModel):\n",
    "    score: float = Field(..., description=\"The score of the result, ranging from 0 to 1 where 1 is the best possible score.\")\n",
    "\n",
    "# This prompt template clearly instructs the LLM on how to score the answer's correctness.\n",
    "correctness_prompt = PromptTemplate(\n",
    "    input_variables=[\"question\", \"ground_truth\", \"generated_answer\"],\n",
    "    template=\"\"\"\n",
    "    Question: {question}\n",
    "    Ground Truth: {ground_truth}\n",
    "    Generated Answer: {generated_answer}\n",
    "\n",
    "    Evaluate the correctness of the generated answer compared to the ground truth.\n",
    "    Score from 0 to 1, where 1 is perfectly correct and 0 is completely incorrect.\n",
    "    \n",
    "    Score:\n",
    "    \"\"\"\n",
    ")\n",
    "\n",
    "# We build the evaluation chain by piping the prompt to the LLM with structured output.\n",
    "correctness_chain = correctness_prompt | llm.with_structured_output(ResultScore)\n",
    "\n",
    "def evaluate_correctness(question, ground_truth, generated_answer):\n",
    "    \"\"\"A helper function to run our custom correctness evaluation chain.\"\"\"\n",
    "    result = correctness_chain.invoke({\n",
    "        \"question\": question, \n",
    "        \"ground_truth\": ground_truth, \n",
    "        \"generated_answer\": generated_answer\n",
    "    })\n",
    "    return result.score\n",
    "\n",
    "# Test the correctness chain with a partially correct answer.\n",
    "question = \"What is the capital of France and Spain?\"\n",
    "ground_truth = \"Paris and Madrid\"\n",
    "generated_answer = \"Paris\"\n",
    "score = evaluate_correctness(question, ground_truth, generated_answer)\n",
    "\n",
    "print(f\"Correctness Score: {score}\")"
   ]
  },
  {
   "cell_type": "markdown",
   "id": "fa752809",
   "metadata": {},
   "source": [
    "\n",
    "预期评分为 0.5，因为`Paris` 是 `Paris and Madrid` 的一部分，但不是全部。\n",
    "\n",
    "下面用 llm 对结果`可信度`打分 0~1，可信度主要是衡量幻觉的情况，因此尤其重要；我们重点关注，结果是否从 context 能获得，而不是特别关注结果「事实上是否一定正确」。"
   ]
  },
  {
   "cell_type": "code",
   "execution_count": null,
   "id": "dce36b37",
   "metadata": {},
   "outputs": [],
   "source": [
    "# The prompt template for faithfulness includes several examples (few-shot prompting)\n",
    "# to make the instructions to the judge LLM crystal clear.\n",
    "faithfulness_prompt = PromptTemplate(\n",
    "    input_variables=[\"question\",\"context\", \"generated_answer\"],\n",
    "    template=\"\"\"\n",
    "    Question: {question}\n",
    "    Context: {context}\n",
    "    Generated Answer: {generated_answer}\n",
    "\n",
    "    Evaluate if the generated answer to the question can be deduced from the context.\n",
    "    Score of 0 or 1, where 1 is perfectly faithful *AND CAN BE DERIVED FROM THE CONTEXT* and 0 otherwise.\n",
    "    You don't mind if the answer is correct; all you care about is if the answer can be deduced from the context.\n",
    "    \n",
    "    Example:\n",
    "    Question: What is the capital of France and Spain?\n",
    "    Context: Paris is the capital of France and Madrid is the capital of Spain.\n",
    "    Generated Answer: Paris\n",
    "    in this case the generated answer is faithful to the context so the score should be *1*.\n",
    "    \n",
    "    Example:\n",
    "    Question: What is 2+2?\n",
    "    Context: 4.\n",
    "    Generated Answer: 4.\n",
    "    In this case, the context states '4', but it does not provide information to deduce the answer to 'What is 2+2?', so the score should be 0.\n",
    "    \"\"\"\n",
    ")\n",
    "\n",
    "# Build the faithfulness chain using the same structured LLM.\n",
    "faithfulness_chain = faithfulness_prompt | llm.with_structured_output(ResultScore)\n",
    "\n",
    "def evaluate_faithfulness(question, context, generated_answer):\n",
    "    \"\"\"A helper function to run our custom faithfulness evaluation chain.\"\"\"\n",
    "    result = faithfulness_chain.invoke({\n",
    "        \"question\": question, \n",
    "        \"context\": context, \n",
    "        \"generated_answer\": generated_answer\n",
    "    })\n",
    "    return result.score\n",
    "\n",
    "# Test the faithfulness chain. The answer is correct, but is it faithful?\n",
    "question = \"what is 3+3?\"\n",
    "context = \"6\"\n",
    "generated_answer = \"6\"\n",
    "score = evaluate_faithfulness(question, context, generated_answer)\n",
    "\n",
    "print(f\"Faithfulness Score: {score}\")"
   ]
  },
  {
   "cell_type": "markdown",
   "id": "3b7aca58",
   "metadata": {},
   "source": [
    "\n",
    "`可信度`预计输出评分为 0，因为相关上下文中，没有提供 3+3 的信息，不允许 llm 直接推理、猜测（虽然 3+3=6 是正确的）。\n",
    "\n",
    "上面自己**编写 prompt**、**确定 few-shot 示例**、构建 chain、构造格式（`question`、`context`、`generated_answer`），来引导 llm 进行评估，比较耗时；实际生产环境中，更多借助`评估框架`。\n",
    "\n",
    "End-to-End评估框架，都内建了一批评估指标，可以直接使用。\n",
    "\n",
    "> 除了 End-to-End 评估，还有独立的 Embedding model、Re-rank Model 评估。\n",
    "> \n",
    ">  **RAG（Retrieval-Augmented Generation）** 的评估，确实可以分成两个层次：\n",
    "> \n",
    "> 1. **端到端评估（End-to-End Evaluation）** —— 关注最终生成答案的质量。\n",
    "> 2. **组件级评估（Independent Evaluation）** —— 关注检索与排序环节本身是否“好用”。\n",
    "> \n",
    "> \n",
    "> 1. **End-to-End 评估指标**\n",
    "> \n",
    "> **目标**：衡量最终答案的 **正确性、流畅性、实用性**。\n",
    "> \n",
    "> 常见方法：\n",
    "> \n",
    "> * **人工评估**\n",
    "> \n",
    ">   * *Faithfulness*（忠实性）：是否基于检索内容回答，是否幻觉。\n",
    ">   * *Helpfulness*（有用性）：答案是否解决了用户问题。\n",
    ">   * *Fluency*（流畅性）：语言自然程度。\n",
    "> \n",
    "> * **自动化指标**\n",
    "> \n",
    ">   * **Exact Match / F1**（适用于有标准答案的问答任务）。\n",
    ">   * **ROUGE / BLEU / METEOR**：与参考答案的文本重叠度。\n",
    ">   * **BERTScore / BLEURT**：基于 embedding 的语义相似度。\n",
    ">   * **LLM-as-a-judge**：利用 GPT 等大模型打分（最近很常用）。\n",
    "> \n",
    "> 2. **Embedding Model 的独立评估**\n",
    "> \n",
    "> **目标**：检索时 embedding 的“语义表征能力”。\n",
    "> \n",
    "> 常见指标：\n",
    "> \n",
    "> * **Retrieval Quality（检索质量）**\n",
    "> \n",
    ">   * *Recall\\@k*：Top-k 检索结果中是否包含正确答案。\n",
    ">   * *Precision\\@k*：Top-k 中相关文档占比。\n",
    ">   * *MRR（Mean Reciprocal Rank）*：正确文档出现的倒数排名均值。\n",
    ">   * *nDCG（Normalized Discounted Cumulative Gain）*：考虑排序位置的加权相关度。\n",
    "> \n",
    "> * **Embedding 表征评估**\n",
    "> \n",
    ">   * *Clustering Purity / NMI / ARI*：聚类效果。\n",
    ">   * *STS（Semantic Textual Similarity）*：与人工打分的句子相似度对比。\n",
    ">   * *Domain Adaptation Check*：在目标领域是否维持语义区分度。\n",
    "> \n",
    "> 3. **Re-rank Model 的独立评估**\n",
    "> \n",
    "> **目标**：在候选文档集合中，模型是否能把“更相关”的排在前面。\n",
    "> \n",
    "> 常见指标（多用于信息检索 IR 领域）：\n",
    "> \n",
    "> * *MAP（Mean Average Precision）*：多个 query 的平均准确率。\n",
    "> * *MRR*：关注第一个相关文档的排名。\n",
    "> * *nDCG\\@k*：加权排序质量，越相关的文档排得越靠前得分越高。\n",
    "> * *Hit Rate\\@k*：前 k 个结果里是否有相关文档。\n",
    "> * *Pairwise Accuracy*：成对比较文档时，模型是否正确判断哪个更相关。\n",
    "> \n",
    ">  4. **组合应用场景下的评估方法**\n",
    "> \n",
    "> * **A/B 测试**：在实际系统中对不同 embedding / re-ranker 组合上线实验，观察用户点击率、停留> 时长、反馈。\n",
    "> * **Hybrid Evaluation**：先用 IR 指标筛选 embedding/re-ranker，再用 LLM-as-judge 做 > end-to-end 检验。\n",
    "> \n",
    "> **总结**：\n",
    "> \n",
    "> * **Embedding model** → Recall\\@k, MRR, nDCG, STS\n",
    "> * **Re-rank model** → MAP, nDCG, Pairwise Accuracy\n",
    "> * **End-to-End** → Faithfulness, Helpfulness, Exact Match/F1, LLM-as-judge\n",
    "> \n",
    "> 这样，RAG 效果可以从 **检索-排序-生成** 三个环节独立衡量，也能整体衡量。"
   ]
  },
  {
   "cell_type": "markdown",
   "id": "24dcdb56",
   "metadata": {},
   "source": [
    "### 10.3.deepeval 评估"
   ]
  },
  {
   "cell_type": "markdown",
   "id": "da757484",
   "metadata": {},
   "source": [
    "\n",
    "`deepeval` is a powerful, open-source framework designed to make LLM evaluation simple and intuitive. It provides a set of well-defined metrics that can be easily applied to your RAG pipeline's outputs.\n",
    "\n",
    "The workflow involves creating `LLMTestCase` objects and measuring them against pre-built metrics like `Correctness`, `Faithfulness`, and `ContextualRelevancy`."
   ]
  },
  {
   "cell_type": "code",
   "execution_count": null,
   "id": "1397cf39",
   "metadata": {},
   "outputs": [],
   "source": [
    "# You will need to install deepeval: pip install deepeval\n",
    "from deepeval import evaluate\n",
    "from deepeval.metrics import GEval, FaithfulnessMetric, ContextualRelevancyMetric\n",
    "from deepeval.test_case import LLMTestCase\n",
    "\n",
    "# Create test cases\n",
    "test_case_correctness = LLMTestCase(\n",
    "    input=\"What is the capital of Spain?\",\n",
    "    expected_output=\"Madrid is the capital of Spain.\",\n",
    "    actual_output=\"MadriD.\"\n",
    ")\n",
    "\n",
    "test_case_faithfulness = LLMTestCase(\n",
    "    input=\"what is 3+3?\",\n",
    "    actual_output=\"6\",\n",
    "    retrieval_context=[\"6\"]\n",
    ")\n",
    "\n",
    "# The evaluate() function runs all test cases against all specified metrics\n",
    "evaluation_results = evaluate(\n",
    "    test_cases=[test_case_correctness, test_case_faithfulness],\n",
    "    metrics=[GEval(name=\"Correctness\", model=\"gpt-4o\"), FaithfulnessMetric()]\n",
    ")\n",
    "\n",
    "print(evaluation_results)"
   ]
  },
  {
   "cell_type": "markdown",
   "id": "2883b182",
   "metadata": {},
   "source": [
    "\n",
    "输出示例："
   ]
  },
  {
   "cell_type": "code",
   "execution_count": null,
   "id": "d0eeed57",
   "metadata": {},
   "outputs": [],
   "source": [
    "✨ Evaluation Results ✨\n",
    "-------------------------\n",
    "Overall Score: 0.50\n",
    "-------------------------\n",
    "Metrics Summary:\n",
    "- Correctness: 1.00\n",
    "- Faithfulness: 0.00\n",
    "-------------------------"
   ]
  },
  {
   "cell_type": "markdown",
   "id": "9dbaf0b8",
   "metadata": {},
   "source": []
  },
  {
   "cell_type": "markdown",
   "id": "9ad60eca",
   "metadata": {},
   "source": [
    "### 10.4.grouse 评估"
   ]
  },
  {
   "cell_type": "markdown",
   "id": "f0a925d6",
   "metadata": {},
   "source": [
    "\n",
    "`grouse` is another excellent open-source option, offering a similar suite of metrics but with a unique focus on allowing deep customization of the \"judge\" prompts. This is useful for fine-tuning evaluation criteria for a specific domain."
   ]
  },
  {
   "cell_type": "code",
   "execution_count": null,
   "id": "8325aab6",
   "metadata": {},
   "outputs": [],
   "source": [
    "# You will need to install grouse: pip install grouse-eval\n",
    "from grouse import EvaluationSample, GroundedQAEvaluator\n",
    "\n",
    "evaluator = GroundedQAEvaluator()\n",
    "unfaithful_sample = EvaluationSample(\n",
    "    input=\"Where is the Eiffel Tower located?\",\n",
    "    actual_output=\"The Eiffel Tower is located at Rue Rabelais in Paris.\",\n",
    "    references=[\n",
    "        \"The Eiffel Tower is a wrought-iron lattice tower on the Champ de Mars in Paris, France\",\n",
    "        \"Gustave Eiffel died in his appartment at Rue Rabelais in Paris.\"\n",
    "    ]\n",
    ")\n",
    "\n",
    "result = evaluator.evaluate(eval_samples=[unfaithful_sample]).evaluations[0]\n",
    "print(f\"Grouse Faithfulness Score (0 or 1): {result.faithfulness.faithfulness}\")"
   ]
  },
  {
   "cell_type": "markdown",
   "id": "f01d039c",
   "metadata": {},
   "source": [
    "\n",
    "输出示例："
   ]
  },
  {
   "cell_type": "code",
   "execution_count": null,
   "id": "de67d534",
   "metadata": {},
   "outputs": [],
   "source": [
    "Grouse Faithfulness Score (0 or 1): 0"
   ]
  },
  {
   "cell_type": "markdown",
   "id": "e3a93830",
   "metadata": {},
   "source": []
  },
  {
   "cell_type": "markdown",
   "id": "bc0516f8",
   "metadata": {},
   "source": [
    "### 10.5.RAGAS 评估"
   ]
  },
  {
   "cell_type": "markdown",
   "id": "af11317c",
   "metadata": {},
   "source": [
    "\n",
    "前面的 deepeval、grouse 都是通用的框架，用于评估一些指标，如正确性、可信度、上下文相关性等；RAGAS 是专门用于评估 RAG 的框架，用于评估 RAG 的性能，包含 retriever、generator 等全部组件，而且评估的指标更丰富。\n",
    "\n",
    "To use `RAGAS`, we first need to prepare our evaluation data in a specific format. It requires four key pieces of information for each test case:\n",
    "\n",
    "- `question`: The user's input query.\n",
    "- `answer`: The final answer generated by our RAG system.\n",
    "- `contexts`: The list of documents retrieved by our retriever.\n",
    "- `ground_truth`: The correct, reference answer.\n",
    "\n",
    "代码实例，如下："
   ]
  },
  {
   "cell_type": "code",
   "execution_count": null,
   "id": "05cd750f",
   "metadata": {},
   "outputs": [],
   "source": [
    "# 1. Prepare the evaluation data\n",
    "questions = [\n",
    "    \"What is the name of the three-headed dog guarding the Sorcerer's Stone?\",\n",
    "    \"Who gave Harry Potter his first broomstick?\",\n",
    "    \"Which house did the Sorting Hat initially consider for Harry?\",\n",
    "]\n",
    "\n",
    "# These would be the answers generated by our RAG pipeline\n",
    "generated_answers = [\n",
    "    \"The three-headed dog is named Fluffy.\",\n",
    "    \"Professor McGonagall gave Harry his first broomstick, a Nimbus 2000.\",\n",
    "    \"The Sorting Hat strongly considered putting Harry in Slytherin.\",\n",
    "]\n",
    "\n",
    "# The ground truth, or \"perfect\" answers\n",
    "ground_truth_answers = [\n",
    "    \"Fluffy\",\n",
    "    \"Professor McGonagall\",\n",
    "    \"Slytherin\",\n",
    "]\n",
    "\n",
    "# The context retrieved by our RAG system for each question\n",
    "retrieved_documents = [\n",
    "    [\"A massive, three-headed dog was guarding a trapdoor. Hagrid mentioned its name was Fluffy.\"],\n",
    "    [\"First years are not allowed brooms, but Professor McGonagall, head of Gryffindor, made an exception for Harry.\"],\n",
    "    [\"The Sorting Hat muttered in Harry's ear, 'You could be great, you know, it's all here in your head, and Slytherin will help you on the way to greatness...'\"],\n",
    "]"
   ]
  },
  {
   "cell_type": "markdown",
   "id": "5c576e0d",
   "metadata": {},
   "source": [
    "\n",
    "下面，构造数据结构："
   ]
  },
  {
   "cell_type": "code",
   "execution_count": null,
   "id": "8d9646f1",
   "metadata": {},
   "outputs": [],
   "source": [
    "# You will need to install ragas and datasets: pip install ragas datasets\n",
    "from datasets import Dataset\n",
    "\n",
    "# 2. Structure the data into a Hugging Face Dataset object\n",
    "data_samples = {\n",
    "    'question': questions,\n",
    "    'answer': generated_answers,\n",
    "    'contexts': retrieved_documents,\n",
    "    'ground_truth': ground_truth_answers\n",
    "}\n",
    "\n",
    "dataset = Dataset.from_dict(data_samples)"
   ]
  },
  {
   "cell_type": "markdown",
   "id": "00aa037f",
   "metadata": {},
   "source": [
    "\n",
    "接下来，定义我们要衡量的指标："
   ]
  },
  {
   "cell_type": "code",
   "execution_count": null,
   "id": "a8a868cf",
   "metadata": {},
   "outputs": [],
   "source": [
    "from ragas import evaluate\n",
    "from ragas.metrics import (\n",
    "    faithfulness,\n",
    "    answer_relevancy,\n",
    "    context_recall,\n",
    "    answer_correctness,\n",
    ")\n",
    "\n",
    "# 3. Define the metrics we want to use for evaluation\n",
    "metrics = [\n",
    "    faithfulness,       # How factually consistent is the answer with the context? (Prevents hallucination)\n",
    "    answer_relevancy,   # How relevant is the answer to the question?\n",
    "    context_recall,     # Did we retrieve all the necessary context to answer the question?\n",
    "    answer_correctness, # How accurate is the answer compared to the ground truth?\n",
    "]\n",
    "\n",
    "# 4. Run the evaluation\n",
    "result = evaluate(\n",
    "    dataset=dataset, \n",
    "    metrics=metrics\n",
    ")\n",
    "\n",
    "# 5. Display the results in a clean table format\n",
    "results_df = result.to_pandas()\n",
    "print(results_df)"
   ]
  },
  {
   "cell_type": "markdown",
   "id": "d8d1f377",
   "metadata": {},
   "source": [
    "\n",
    "预计，输出格式："
   ]
  },
  {
   "cell_type": "code",
   "execution_count": null,
   "id": "ccd7d6f6",
   "metadata": {},
   "outputs": [],
   "source": [
    "                                             question  ... answer_correctness\n",
    "0  What is the name of the three-headed dog guard...    ...           1.000000\n",
    "1          Who gave Harry Potter his first broomstick?  ...           0.954321\n",
    "2  Which house did the Sorting Hat initially cons...    ...           1.000000"
   ]
  },
  {
   "cell_type": "markdown",
   "id": "e14472e6",
   "metadata": {},
   "source": [
    "\n",
    "\n",
    "\n",
    "\n",
    "\n",
    "\n",
    "\n",
    "\n",
    "\n",
    "\n",
    "\n",
    "\n",
    "\n",
    "\n",
    "\n",
    "\n",
    "\n",
    "\n",
    "\n",
    "关联资料\n",
    "\n",
    "* [rag-from-scratch](https://github.com/langchain-ai/rag-from-scratch)\n",
    "* [rag-ecosystem](https://github.com/FareedKhan-dev/rag-ecosystem)\n",
    "* [检索增强生成 (RAG) 方法](https://www.promptingguide.ai/zh/research/rag)"
   ]
  }
 ],
 "metadata": {},
 "nbformat": 4,
 "nbformat_minor": 5
}
