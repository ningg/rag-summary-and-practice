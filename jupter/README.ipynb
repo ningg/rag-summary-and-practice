{
 "cells": [
  {
   "cell_type": "markdown",
   "id": "3bccd2a8",
   "metadata": {},
   "source": [
    "# rag-summary-and-practice\n",
    "RAG 技术要点、本地实践\n",
    "\n",
    "## 0.背景\n",
    "\n",
    "最近几周工作上，接触些 RAG 内容，看了点资料；本着`最好的学习是复述`原则，把所有要点，重新梳理下。\n",
    "\n",
    "思路：\n",
    "\n",
    "1.RAG 解决什么问题？\n",
    "2.RAG 核心原理、核心组件\n",
    "3.RAG 高级技术，不同组件的进阶\n",
    "4.效果评估\n",
    "5.后续发展方向\n",
    "\n",
    "## 1.RAG 解决什么问题\n",
    "\n",
    "LLM 基于大规模数据的预训练，获取的通用知识。对于`私有数据`和`高频更新数据`，LLM 无法及时更新。如果采用 `Fine-Tuning` 监督微调方式，LLM 训练成本也较高，而且无法解决`幻觉`问题。 \n",
    "\n",
    "即，`私有数据`和`高频更新数据`，以及`幻觉`问题，LLM 模型自身解决成本较高，因此，引入 RAG `Retrieval Augmented Generation`。\n",
    "\n",
    "\n",
    "## 2.核心原理\n",
    "\n",
    "RAG 检索增强生成：通过检索`外部数据源`信息，构造`融合上下文`（Context），输入给 LLM，获取更准确的结果。\n",
    "\n",
    "核心环节：\n",
    "\n",
    "a. 索引（indexing）\n",
    "b. 检索（retrieval）\n",
    "c. 生成（generation）\n",
    "\n",
    "\n",
    "下述 RAG 架构图中，出了上面 3 个核心环节，还有：查询优化、路由、查询构造\n",
    "\n",
    "* 查询优化（Query Translation）：查询重写、查询扩展、预查伪文档；\n",
    "* 路由（Routing）：根据查询，判断从哪些数据源，获取信息；\n",
    "* 查询抽取（Query Construction）：从原始 Query 中，抽取 SQL 、 Cypher、metadatas，分别用于 关系数据库、图数据库、向量数据库的查询。\n",
    "\n",
    "![rag_detail_v2](https://github.com/langchain-ai/rag-from-scratch/assets/122662504/54a2d76c-b07e-49e7-b4ce-fc45667360a1)\n",
    "\n",
    "\n",
    "开始之前，先在本地安装好 Ollama，并且下载好 embedding model 和 language model。\n",
    "\n",
    "* TODO：增加一个链接.\n",
    "\n",
    "安装依赖：\n",
    "\n",
    "* TODO 增加 python 依赖以及版本？"
   ]
  },
  {
   "cell_type": "code",
   "execution_count": null,
   "id": "013b3b67",
   "metadata": {},
   "outputs": [],
   "source": [
    "! pip install langchain_community tiktoken langchain-ollama langchainhub chromadb langchain"
   ]
  },
  {
   "cell_type": "markdown",
   "id": "6eea0ef1",
   "metadata": {},
   "source": [
    "\n",
    "\n",
    "\n",
    "\n",
    "\n",
    "\n",
    "\n",
    "\n",
    "\n",
    "关联资料\n",
    "\n",
    "* [rag-from-scratch](https://github.com/langchain-ai/rag-from-scratch)\n",
    "* [rag-ecosystem](https://github.com/FareedKhan-dev/rag-ecosystem)"
   ]
  }
 ],
 "metadata": {
  "kernelspec": {
   "display_name": "ragEco",
   "language": "python",
   "name": "python3"
  },
  "language_info": {
   "name": "python",
   "version": "3.13.5"
  }
 },
 "nbformat": 4,
 "nbformat_minor": 5
}
